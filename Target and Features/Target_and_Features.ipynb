{
 "cells": [
  {
   "cell_type": "markdown",
   "metadata": {
    "id": "X_6ZHWCxtxsE"
   },
   "source": [
    "# Notebook Instructions\n",
    "\n",
    "1. All the <u>code and data files</u> used in this course are available in the downloadable unit of the <u>last section of this course</u>.\n",
    "2. You can run the notebook document sequentially (one cell at a time) by pressing **Shift + Enter**. \n",
    "3. While a cell is running, a [*] is shown on the left. After the cell is run, the output will appear on the next line.\n",
    "\n",
    "This course is based on specific versions of Python packages. You can find the details of the packages in <a href='https://quantra.quantinsti.com/quantra-notebook' target=\"_blank\" >this manual</a>."
   ]
  },
  {
   "cell_type": "markdown",
   "metadata": {
    "id": "5iFxV3CPtxsI"
   },
   "source": [
    "# Target and Features\n",
    "\n",
    "A machine learning algorithm requires a set of features to predict the target variable. \n",
    "\n",
    "In this notebook, you will perform the following steps:\n",
    "\n",
    "1. [Problem Statement](#problem-statement)\n",
    "2. [Read the Data](#read)\n",
    "3. [Target Variable](#target)\n",
    "4. [Features](#features)\n",
    "5. [Create X and y](#x-and-y)<br>\n",
    "    a. [Stationarity Check](#stationary)<br>\n",
    "    b. [Correlation Check](#correlation)<br>\n",
    "\n",
    "<a id='problem-statement'></a> \n",
    "## Problem Statement\n",
    "\n",
    "Let's say you have decided that you want to trade in J.P. Morgan. Next, you should decide whether to go long in J.P. Morgan at a given point in time. Thus, the problem statement will be:<br>\n",
    "\n",
    "<b><i>Whether to buy J.P. Morgan's stock at a given time or not?</i></b>\n",
    "\n",
    "## Import Libraries"
   ]
  },
  {
   "cell_type": "code",
   "execution_count": 1,
   "metadata": {
    "id": "a2izxkoytxsJ"
   },
   "outputs": [],
   "source": [
    "import pandas as pd\n",
    "import numpy as np\n",
    "import matplotlib.pyplot as plt\n",
    "import talib as ta\n",
    "from statsmodels.tsa.stattools import adfuller"
   ]
  },
  {
   "cell_type": "markdown",
   "metadata": {
    "id": "XRTP2pFDtxsK"
   },
   "source": [
    "<a id='read'></a> \n",
    "## Read the Data\n",
    "\n",
    "The 15-minute OHLCV data of J.P. Morgan stock price is stored in a CSV file `JPM.csv` in the `data_modules` directory. The data ranges from January 2017 to  December 2019. You can download this data from the last unit of this course '**Python Codes and Data**'.\n",
    "\n",
    "To read a CSV file, you can use the `read_csv` method of pandas. The syntax is shown below.\n",
    "\n",
    "Syntax: \n",
    "```python\n",
    "import pandas as pd\n",
    "pd.read_csv(filename)\n",
    "```\n",
    "**filename:** Complete path of the file and file name in string format."
   ]
  },
  {
   "cell_type": "code",
   "execution_count": 2,
   "metadata": {
    "id": "nuVtaj-VtxsL"
   },
   "outputs": [],
   "source": [
    "# The data is stored in the directory 'data_modules'\n",
    "path = \"../data_modules/\"\n",
    "\n",
    "# Read the data\n",
    "data = pd.read_csv(path + 'JPM_2017_2019.csv', index_col=0)\n",
    "data.index = pd.to_datetime(data.index)"
   ]
  },
  {
   "cell_type": "markdown",
   "metadata": {
    "id": "1p4gjui5txsM"
   },
   "source": [
    "<a id='target'></a> \n",
    "## Target Variable\n",
    "\n",
    "Target variable is what the machine learning model tries to predict in order to solve the problem statement. It is referred to as **y**. \n",
    "\n",
    "Going back to our problem statement, **Whether to buy J.P. Morgan's stock or not?**, we will create a column, `signal`. The `signal` column will have two labels, `1` and `0`. Whenever the label is `1`, the model indicates a **buy** signal. And whenever the label is `0`, the model indicates **do not buy**. We will assign `1` to the `signal` column whenever the future returns will be greater than 0.\n",
    "\n",
    "The `future_returns` can be calculated using the `pct_change` method of `pandas`. The `pct_change` method will calculate the percentage change for the current time period.\n",
    "\n",
    "Since we want the future returns, we will shift the percentage change for the current period to the previous time period. This can be done using the `shift` method of `pandas`.\n",
    "\n",
    "Syntax:\n",
    "```python\n",
    "DataFrame[column].pct_change().shift(period)\n",
    "```\n",
    "\n",
    "Parameters:</br>\n",
    "1. **column:** The column for which the percentage change is to be calculated.\n",
    "2. **period:** The period to shift the series. To shift to the current value to the previous time period, the period will be `-1`."
   ]
  },
  {
   "cell_type": "code",
   "execution_count": 3,
   "metadata": {
    "id": "hOsFF2LytxsN",
    "outputId": "686f42a2-295a-4ce0-d51b-ad0dda515ca5"
   },
   "outputs": [
    {
     "data": {
      "text/html": [
       "<div>\n",
       "<style scoped>\n",
       "    .dataframe tbody tr th:only-of-type {\n",
       "        vertical-align: middle;\n",
       "    }\n",
       "\n",
       "    .dataframe tbody tr th {\n",
       "        vertical-align: top;\n",
       "    }\n",
       "\n",
       "    .dataframe thead th {\n",
       "        text-align: right;\n",
       "    }\n",
       "</style>\n",
       "<table border=\"1\" class=\"dataframe\">\n",
       "  <thead>\n",
       "    <tr style=\"text-align: right;\">\n",
       "      <th></th>\n",
       "      <th>open</th>\n",
       "      <th>high</th>\n",
       "      <th>low</th>\n",
       "      <th>close</th>\n",
       "      <th>volume</th>\n",
       "      <th>future_returns</th>\n",
       "      <th>signal</th>\n",
       "    </tr>\n",
       "  </thead>\n",
       "  <tbody>\n",
       "    <tr>\n",
       "      <th>2017-01-03 09:45:00+00:00</th>\n",
       "      <td>87.34</td>\n",
       "      <td>87.75</td>\n",
       "      <td>87.02</td>\n",
       "      <td>87.39</td>\n",
       "      <td>2184761.0</td>\n",
       "      <td>-0.002289</td>\n",
       "      <td>0</td>\n",
       "    </tr>\n",
       "    <tr>\n",
       "      <th>2017-01-03 10:00:00+00:00</th>\n",
       "      <td>87.39</td>\n",
       "      <td>87.44</td>\n",
       "      <td>86.95</td>\n",
       "      <td>87.19</td>\n",
       "      <td>1148228.0</td>\n",
       "      <td>0.001262</td>\n",
       "      <td>1</td>\n",
       "    </tr>\n",
       "    <tr>\n",
       "      <th>2017-01-03 10:15:00+00:00</th>\n",
       "      <td>87.21</td>\n",
       "      <td>87.41</td>\n",
       "      <td>87.14</td>\n",
       "      <td>87.30</td>\n",
       "      <td>860609.0</td>\n",
       "      <td>0.000916</td>\n",
       "      <td>1</td>\n",
       "    </tr>\n",
       "    <tr>\n",
       "      <th>2017-01-03 10:30:00+00:00</th>\n",
       "      <td>87.31</td>\n",
       "      <td>87.38</td>\n",
       "      <td>87.26</td>\n",
       "      <td>87.38</td>\n",
       "      <td>481605.0</td>\n",
       "      <td>-0.002861</td>\n",
       "      <td>0</td>\n",
       "    </tr>\n",
       "    <tr>\n",
       "      <th>2017-01-03 10:45:00+00:00</th>\n",
       "      <td>87.37</td>\n",
       "      <td>87.46</td>\n",
       "      <td>87.13</td>\n",
       "      <td>87.13</td>\n",
       "      <td>675950.0</td>\n",
       "      <td>-0.006312</td>\n",
       "      <td>0</td>\n",
       "    </tr>\n",
       "  </tbody>\n",
       "</table>\n",
       "</div>"
      ],
      "text/plain": [
       "                            open   high    low  close     volume  \\\n",
       "2017-01-03 09:45:00+00:00  87.34  87.75  87.02  87.39  2184761.0   \n",
       "2017-01-03 10:00:00+00:00  87.39  87.44  86.95  87.19  1148228.0   \n",
       "2017-01-03 10:15:00+00:00  87.21  87.41  87.14  87.30   860609.0   \n",
       "2017-01-03 10:30:00+00:00  87.31  87.38  87.26  87.38   481605.0   \n",
       "2017-01-03 10:45:00+00:00  87.37  87.46  87.13  87.13   675950.0   \n",
       "\n",
       "                           future_returns  signal  \n",
       "2017-01-03 09:45:00+00:00       -0.002289       0  \n",
       "2017-01-03 10:00:00+00:00        0.001262       1  \n",
       "2017-01-03 10:15:00+00:00        0.000916       1  \n",
       "2017-01-03 10:30:00+00:00       -0.002861       0  \n",
       "2017-01-03 10:45:00+00:00       -0.006312       0  "
      ]
     },
     "execution_count": 3,
     "metadata": {},
     "output_type": "execute_result"
    }
   ],
   "source": [
    "# Create a column 'future_returns' with the calculation of percentage change\n",
    "data['future_returns'] = data['close'].pct_change().shift(-1)\n",
    "\n",
    "# Create the signal column\n",
    "data['signal'] = np.where(data['future_returns'] > 0, 1, 0)\n",
    "\n",
    "data.head()"
   ]
  },
  {
   "cell_type": "markdown",
   "metadata": {
    "id": "cZ0krt6OtxsO"
   },
   "source": [
    "<a id='features'></a> \n",
    "## Features\n",
    "\n",
    "In order to predict the `signal`, we will create the input variables for the ML model. These input variables are called features. The features are referred to as **X**. You can create the features in such a way that each feature in your dataset has some predictive power.\n",
    "\n",
    "We will start by creating the 15-minute, 30-minute and 75-minute prior percentage change columns."
   ]
  },
  {
   "cell_type": "code",
   "execution_count": 4,
   "metadata": {
    "id": "IYuVHuA6txsP"
   },
   "outputs": [],
   "source": [
    "# Create a column 'pct_change' with the 15-minute prior percentage change\n",
    "data['pct_change'] = data['close'].pct_change()\n",
    "\n",
    "# Create a column 'pct_change2' with the half an hour prior percentage change\n",
    "data['pct_change2'] = data['close'].pct_change(2)\n",
    "\n",
    "# Create a column 'pct_change5' with the 75-minute prior percentage change\n",
    "data['pct_change5'] = data['close'].pct_change(5)"
   ]
  },
  {
   "cell_type": "markdown",
   "metadata": {
    "id": "0MoXUsFytxsP"
   },
   "source": [
    "Next, we will calculate the technical indicators, RSI and ADX. These can be done by using the `RSI` and `ADX` method of the `talib` library.\n",
    "\n",
    "Syntax:\n",
    "```python\n",
    "import talib as ta\n",
    "ta.RSI(data, timeperiod)\n",
    "ta.ADX(data_high, data_low, data_open, timeperiod)\n",
    "```\n",
    "\n",
    "The parameters above are self-explanatory.\n",
    "\n",
    "Since there are 6.5 trading hours in a day, and ours is a 15-minutes data, the time period will be 6.5*4."
   ]
  },
  {
   "cell_type": "code",
   "execution_count": 5,
   "metadata": {
    "id": "RYyO2raatxsQ"
   },
   "outputs": [],
   "source": [
    "# Create a column by the name RSI, and assign the RSI values to it\n",
    "data['rsi'] = ta.RSI(data['close'].values, timeperiod=int(6.5*4))\n",
    "\n",
    "# Create a column by the name ADX, and assign the ADX values to it\n",
    "data['adx'] = ta.ADX(data['high'].values, data['low'].values,\n",
    "                     data['open'].values, timeperiod=int(6.5*4))"
   ]
  },
  {
   "cell_type": "markdown",
   "metadata": {
    "id": "tMQhCYxUtxsR"
   },
   "source": [
    "We will now create the simple moving average and rolling correlation of the close price. This can be done by using the `mean` and the `corr` method of the pandas library.\n",
    "\n",
    "Syntax:\n",
    "```python\n",
    "DataFrame[column].rolling(window).mean()\n",
    "DataFrame[column].rolling(window).corr()\n",
    "```\n",
    "\n",
    "**column:** The column to perform the operation on.<br>\n",
    "**window:** The span of the rolling window.\n",
    "\n",
    "We will calculate the daily moving average and correlation. "
   ]
  },
  {
   "cell_type": "code",
   "execution_count": 6,
   "metadata": {
    "id": "ALcKvOVFtxsR"
   },
   "outputs": [],
   "source": [
    "# Create a column by the name sma, and assign the SMA values to it\n",
    "data['sma'] = data['close'].rolling(window=int(6.5*4)).mean()\n",
    "\n",
    "# Create a column by the name corr, and assign the correlation values to it\n",
    "data['corr'] = data['close'].rolling(window=int(6.5*4)).corr(data['sma'])"
   ]
  },
  {
   "cell_type": "markdown",
   "metadata": {
    "id": "AhYOybf3txsR"
   },
   "source": [
    "Let us now calculate the volatility of the stock. This can be done by calculating the rolling standard deviation of the `pct_change` column. "
   ]
  },
  {
   "cell_type": "code",
   "execution_count": 7,
   "metadata": {
    "id": "RT4GJL3ZtxsS",
    "outputId": "22a24d8b-2053-4eee-c7cb-8b8c0b30eb42"
   },
   "outputs": [
    {
     "data": {
      "text/html": [
       "<div>\n",
       "<style scoped>\n",
       "    .dataframe tbody tr th:only-of-type {\n",
       "        vertical-align: middle;\n",
       "    }\n",
       "\n",
       "    .dataframe tbody tr th {\n",
       "        vertical-align: top;\n",
       "    }\n",
       "\n",
       "    .dataframe thead th {\n",
       "        text-align: right;\n",
       "    }\n",
       "</style>\n",
       "<table border=\"1\" class=\"dataframe\">\n",
       "  <thead>\n",
       "    <tr style=\"text-align: right;\">\n",
       "      <th></th>\n",
       "      <th>open</th>\n",
       "      <th>high</th>\n",
       "      <th>low</th>\n",
       "      <th>close</th>\n",
       "      <th>volume</th>\n",
       "      <th>future_returns</th>\n",
       "      <th>signal</th>\n",
       "      <th>pct_change</th>\n",
       "      <th>pct_change2</th>\n",
       "      <th>pct_change5</th>\n",
       "      <th>rsi</th>\n",
       "      <th>adx</th>\n",
       "      <th>sma</th>\n",
       "      <th>corr</th>\n",
       "      <th>volatility</th>\n",
       "      <th>volatility2</th>\n",
       "    </tr>\n",
       "  </thead>\n",
       "  <tbody>\n",
       "    <tr>\n",
       "      <th>2019-12-31 15:00:00+00:00</th>\n",
       "      <td>138.720</td>\n",
       "      <td>138.786</td>\n",
       "      <td>138.720</td>\n",
       "      <td>138.755</td>\n",
       "      <td>137277.0</td>\n",
       "      <td>0.000144</td>\n",
       "      <td>1</td>\n",
       "      <td>0.000108</td>\n",
       "      <td>-0.000900</td>\n",
       "      <td>0.000108</td>\n",
       "      <td>48.917663</td>\n",
       "      <td>18.059900</td>\n",
       "      <td>138.707846</td>\n",
       "      <td>-0.233961</td>\n",
       "      <td>0.076398</td>\n",
       "      <td>0.110535</td>\n",
       "    </tr>\n",
       "    <tr>\n",
       "      <th>2019-12-31 15:15:00+00:00</th>\n",
       "      <td>138.745</td>\n",
       "      <td>138.787</td>\n",
       "      <td>138.655</td>\n",
       "      <td>138.775</td>\n",
       "      <td>139979.0</td>\n",
       "      <td>0.000973</td>\n",
       "      <td>1</td>\n",
       "      <td>0.000144</td>\n",
       "      <td>0.000252</td>\n",
       "      <td>-0.000547</td>\n",
       "      <td>49.359122</td>\n",
       "      <td>18.104801</td>\n",
       "      <td>138.705885</td>\n",
       "      <td>-0.348533</td>\n",
       "      <td>0.073904</td>\n",
       "      <td>0.110430</td>\n",
       "    </tr>\n",
       "    <tr>\n",
       "      <th>2019-12-31 15:30:00+00:00</th>\n",
       "      <td>138.760</td>\n",
       "      <td>138.930</td>\n",
       "      <td>138.704</td>\n",
       "      <td>138.910</td>\n",
       "      <td>144914.0</td>\n",
       "      <td>0.002088</td>\n",
       "      <td>1</td>\n",
       "      <td>0.000973</td>\n",
       "      <td>0.001117</td>\n",
       "      <td>0.000720</td>\n",
       "      <td>52.255662</td>\n",
       "      <td>17.906918</td>\n",
       "      <td>138.707615</td>\n",
       "      <td>-0.538080</td>\n",
       "      <td>0.076218</td>\n",
       "      <td>0.111184</td>\n",
       "    </tr>\n",
       "    <tr>\n",
       "      <th>2019-12-31 15:45:00+00:00</th>\n",
       "      <td>138.910</td>\n",
       "      <td>139.220</td>\n",
       "      <td>138.883</td>\n",
       "      <td>139.200</td>\n",
       "      <td>336305.0</td>\n",
       "      <td>0.001365</td>\n",
       "      <td>1</td>\n",
       "      <td>0.002088</td>\n",
       "      <td>0.003063</td>\n",
       "      <td>0.002304</td>\n",
       "      <td>57.665344</td>\n",
       "      <td>17.283036</td>\n",
       "      <td>138.729346</td>\n",
       "      <td>-0.511921</td>\n",
       "      <td>0.078749</td>\n",
       "      <td>0.114850</td>\n",
       "    </tr>\n",
       "    <tr>\n",
       "      <th>2019-12-31 16:00:00+00:00</th>\n",
       "      <td>139.195</td>\n",
       "      <td>139.480</td>\n",
       "      <td>139.140</td>\n",
       "      <td>139.390</td>\n",
       "      <td>949197.0</td>\n",
       "      <td>NaN</td>\n",
       "      <td>0</td>\n",
       "      <td>0.001365</td>\n",
       "      <td>0.003455</td>\n",
       "      <td>0.004685</td>\n",
       "      <td>60.699494</td>\n",
       "      <td>16.886426</td>\n",
       "      <td>138.757038</td>\n",
       "      <td>-0.466739</td>\n",
       "      <td>0.082235</td>\n",
       "      <td>0.115960</td>\n",
       "    </tr>\n",
       "  </tbody>\n",
       "</table>\n",
       "</div>"
      ],
      "text/plain": [
       "                              open     high      low    close    volume  \\\n",
       "2019-12-31 15:00:00+00:00  138.720  138.786  138.720  138.755  137277.0   \n",
       "2019-12-31 15:15:00+00:00  138.745  138.787  138.655  138.775  139979.0   \n",
       "2019-12-31 15:30:00+00:00  138.760  138.930  138.704  138.910  144914.0   \n",
       "2019-12-31 15:45:00+00:00  138.910  139.220  138.883  139.200  336305.0   \n",
       "2019-12-31 16:00:00+00:00  139.195  139.480  139.140  139.390  949197.0   \n",
       "\n",
       "                           future_returns  signal  pct_change  pct_change2  \\\n",
       "2019-12-31 15:00:00+00:00        0.000144       1    0.000108    -0.000900   \n",
       "2019-12-31 15:15:00+00:00        0.000973       1    0.000144     0.000252   \n",
       "2019-12-31 15:30:00+00:00        0.002088       1    0.000973     0.001117   \n",
       "2019-12-31 15:45:00+00:00        0.001365       1    0.002088     0.003063   \n",
       "2019-12-31 16:00:00+00:00             NaN       0    0.001365     0.003455   \n",
       "\n",
       "                           pct_change5        rsi        adx         sma  \\\n",
       "2019-12-31 15:00:00+00:00     0.000108  48.917663  18.059900  138.707846   \n",
       "2019-12-31 15:15:00+00:00    -0.000547  49.359122  18.104801  138.705885   \n",
       "2019-12-31 15:30:00+00:00     0.000720  52.255662  17.906918  138.707615   \n",
       "2019-12-31 15:45:00+00:00     0.002304  57.665344  17.283036  138.729346   \n",
       "2019-12-31 16:00:00+00:00     0.004685  60.699494  16.886426  138.757038   \n",
       "\n",
       "                               corr  volatility  volatility2  \n",
       "2019-12-31 15:00:00+00:00 -0.233961    0.076398     0.110535  \n",
       "2019-12-31 15:15:00+00:00 -0.348533    0.073904     0.110430  \n",
       "2019-12-31 15:30:00+00:00 -0.538080    0.076218     0.111184  \n",
       "2019-12-31 15:45:00+00:00 -0.511921    0.078749     0.114850  \n",
       "2019-12-31 16:00:00+00:00 -0.466739    0.082235     0.115960  "
      ]
     },
     "execution_count": 7,
     "metadata": {},
     "output_type": "execute_result"
    }
   ],
   "source": [
    "# 1-day and 2-day volatility\n",
    "data['volatility'] = data.rolling(\n",
    "    int(6.5*4), min_periods=int(6.5*4))['pct_change'].std()*100\n",
    "\n",
    "data['volatility2'] = data.rolling(\n",
    "    int(6.5*8), min_periods=int(6.5*8))['pct_change'].std()*100\n",
    "\n",
    "data.tail()"
   ]
  },
  {
   "cell_type": "markdown",
   "metadata": {
    "id": "7RMJZC0atxsS"
   },
   "source": [
    "<a id='x-and-y'></a> \n",
    "## Create X and y\n",
    "\n",
    "Before creating the features (`X`) and target(`y`), we will drop the rows with any missing values."
   ]
  },
  {
   "cell_type": "code",
   "execution_count": 8,
   "metadata": {
    "id": "2hZvyNMgtxsS"
   },
   "outputs": [],
   "source": [
    "# Drop the missing values\n",
    "data.dropna(inplace=True)"
   ]
  },
  {
   "cell_type": "markdown",
   "metadata": {
    "id": "9uYvxWvptxsT"
   },
   "source": [
    "Since we have created features using the original columns of the dataset, we will not consider the original columns (`high`, `low`, `open`, `volume`, `close`) in features.\n",
    "\n",
    "Store the `signal` column in `y` and features in `X`. The columns in the variable `X` will be the input for the ML model and the `signal` column in `y` will be the output that the ML model will predict."
   ]
  },
  {
   "cell_type": "code",
   "execution_count": 9,
   "metadata": {
    "id": "sGJjBFTCtxsT"
   },
   "outputs": [],
   "source": [
    "# Target\n",
    "y = data[['signal']].copy()\n",
    "\n",
    "# Features\n",
    "X = data[['pct_change', 'pct_change2', 'pct_change5', 'rsi',\n",
    "       'adx', 'sma', 'corr', 'volatility', 'volatility2']].copy()"
   ]
  },
  {
   "cell_type": "markdown",
   "metadata": {
    "id": "1_31z1pNtxsT"
   },
   "source": [
    "<a id='stationary'></a> \n",
    "### Stationarity Check\n",
    "\n",
    "As you have seen that most ML algorithm requires stationary features, we will drop the non-stationary columns from `X`.\n",
    "\n",
    "You can use the `adfuller` method from the `statsmodels` library to perform this test in Python, and compare the p-value.\n",
    "- If the p-value is less than or equal to 0.05, you reject H0.\n",
    "- If the p-value is greater than 0.05, you fail to reject H0.\n",
    "\n",
    "\n",
    "To use the `adfuller` method, you need to import it from the `statsmodels` library as shown below:\n",
    "\n",
    "```python\n",
    "from statsmodels.tsa.stattools import adfuller\n",
    "```\n",
    "\n",
    "The `adfuller` method can be used as shown below:\n",
    "\n",
    "```python\n",
    "result = adfuller(X)\n",
    "```\n",
    "\n",
    "The p-value can be accessed as `result[1]`."
   ]
  },
  {
   "cell_type": "code",
   "execution_count": 10,
   "metadata": {
    "id": "c9lxDuVNtxsT",
    "outputId": "b102e683-0029-4d5d-ac2f-95edb8084cc3"
   },
   "outputs": [
    {
     "name": "stdout",
     "output_type": "stream",
     "text": [
      "pct_change is stationary.\n",
      "pct_change2 is stationary.\n",
      "pct_change5 is stationary.\n",
      "rsi is stationary.\n",
      "adx is stationary.\n",
      "sma is not stationary. Dropping it.\n",
      "corr is stationary.\n",
      "volatility is stationary.\n",
      "volatility2 is stationary.\n"
     ]
    }
   ],
   "source": [
    "def stationary(series):\n",
    "    \"\"\"Function to check if the series is stationary or not.\n",
    "    \"\"\"\n",
    "\n",
    "    result = adfuller(series)\n",
    "    if(result[1] < 0.05):\n",
    "        return 'stationary'\n",
    "    else:\n",
    "        return 'not stationary'\n",
    "\n",
    "\n",
    "# Check for stationarity\n",
    "for col in X.columns:\n",
    "    if stationary(data[col]) == 'not stationary':\n",
    "        print('%s is not stationary. Dropping it.' % col)\n",
    "        X.drop(columns=[col], axis=1, inplace=True)\n",
    "    else:\n",
    "        print('%s is stationary.' % col)"
   ]
  },
  {
   "cell_type": "markdown",
   "metadata": {
    "id": "8QztnSiMtxsU"
   },
   "source": [
    "Thus, you can see that all the columns but `sma` are stationary. The `sma` column is dropped from the dataset.\n",
    "\n",
    "<a id='correlation'></a> \n",
    "### Correlation Check\n",
    "\n",
    "Let us now check for correlation between the features. "
   ]
  },
  {
   "cell_type": "code",
   "execution_count": 11,
   "metadata": {
    "id": "cXW6McgatxsU",
    "outputId": "df105fb7-de62-4dfe-bbfb-28824f466cfd"
   },
   "outputs": [
    {
     "name": "stdout",
     "output_type": "stream",
     "text": [
      "MultiIndex([('volatility', 'volatility2')],\n",
      "           )\n"
     ]
    }
   ],
   "source": [
    "def get_pair_above_threshold(X, threshold):\n",
    "    \"\"\"Function to return the pairs with correlation above threshold.\n",
    "    \"\"\"\n",
    "    # Calculate the correlation matrix\n",
    "    correl = X.corr()\n",
    "\n",
    "    # Unstack the matrix\n",
    "    correl = correl.abs().unstack()\n",
    "\n",
    "    # Recurring & redundant pair\n",
    "    pairs_to_drop = set()\n",
    "    cols = X.corr().columns\n",
    "    for i in range(0, X.corr().shape[1]):\n",
    "        for j in range(0, i+1):\n",
    "            pairs_to_drop.add((cols[i], cols[j]))\n",
    "\n",
    "    # Drop the recurring & redundant pair\n",
    "    correl = correl.drop(labels=pairs_to_drop).sort_values(ascending=False)\n",
    "\n",
    "    return correl[correl > threshold].index\n",
    "\n",
    "\n",
    "print(get_pair_above_threshold(X, 0.7))"
   ]
  },
  {
   "cell_type": "markdown",
   "metadata": {
    "id": "pTrzwGaMtxsU"
   },
   "source": [
    "In the above output, you can see that the correlation between `volatility` and `volatility2` is above threshold of 0.7. Hence, we should drop any one of the above columns. We will drop the `volatility2` column."
   ]
  },
  {
   "cell_type": "code",
   "execution_count": 12,
   "metadata": {
    "id": "PmxvGrQCtxsV"
   },
   "outputs": [],
   "source": [
    "# Drop the highly correlated column\n",
    "X = X.drop(columns=['volatility2'], axis=1)"
   ]
  },
  {
   "cell_type": "markdown",
   "metadata": {
    "id": "8Xl6mJuntxsV"
   },
   "source": [
    "### Display the Final Features"
   ]
  },
  {
   "cell_type": "code",
   "execution_count": 13,
   "metadata": {
    "id": "DN8CNEQwtxsV",
    "outputId": "db08d718-7142-470c-bbe2-b1fcb459e5a2"
   },
   "outputs": [
    {
     "data": {
      "text/html": [
       "<div>\n",
       "<style scoped>\n",
       "    .dataframe tbody tr th:only-of-type {\n",
       "        vertical-align: middle;\n",
       "    }\n",
       "\n",
       "    .dataframe tbody tr th {\n",
       "        vertical-align: top;\n",
       "    }\n",
       "\n",
       "    .dataframe thead th {\n",
       "        text-align: right;\n",
       "    }\n",
       "</style>\n",
       "<table border=\"1\" class=\"dataframe\">\n",
       "  <thead>\n",
       "    <tr style=\"text-align: right;\">\n",
       "      <th></th>\n",
       "      <th>pct_change</th>\n",
       "      <th>pct_change2</th>\n",
       "      <th>pct_change5</th>\n",
       "      <th>rsi</th>\n",
       "      <th>adx</th>\n",
       "      <th>corr</th>\n",
       "      <th>volatility</th>\n",
       "    </tr>\n",
       "  </thead>\n",
       "  <tbody>\n",
       "    <tr>\n",
       "      <th>2017-01-05 09:45:00+00:00</th>\n",
       "      <td>-0.000115</td>\n",
       "      <td>-0.000920</td>\n",
       "      <td>-0.000920</td>\n",
       "      <td>46.849667</td>\n",
       "      <td>9.932116</td>\n",
       "      <td>0.795243</td>\n",
       "      <td>0.112499</td>\n",
       "    </tr>\n",
       "    <tr>\n",
       "      <th>2017-01-05 10:00:00+00:00</th>\n",
       "      <td>-0.003108</td>\n",
       "      <td>-0.003222</td>\n",
       "      <td>-0.003910</td>\n",
       "      <td>42.011647</td>\n",
       "      <td>10.304958</td>\n",
       "      <td>0.702034</td>\n",
       "      <td>0.092029</td>\n",
       "    </tr>\n",
       "    <tr>\n",
       "      <th>2017-01-05 10:15:00+00:00</th>\n",
       "      <td>-0.002425</td>\n",
       "      <td>-0.005525</td>\n",
       "      <td>-0.005639</td>\n",
       "      <td>38.772892</td>\n",
       "      <td>10.916288</td>\n",
       "      <td>0.506866</td>\n",
       "      <td>0.103320</td>\n",
       "    </tr>\n",
       "    <tr>\n",
       "      <th>2017-01-05 10:30:00+00:00</th>\n",
       "      <td>-0.000347</td>\n",
       "      <td>-0.002771</td>\n",
       "      <td>-0.006785</td>\n",
       "      <td>38.333830</td>\n",
       "      <td>11.716813</td>\n",
       "      <td>0.313286</td>\n",
       "      <td>0.103321</td>\n",
       "    </tr>\n",
       "    <tr>\n",
       "      <th>2017-01-05 10:45:00+00:00</th>\n",
       "      <td>-0.003358</td>\n",
       "      <td>-0.003704</td>\n",
       "      <td>-0.009322</td>\n",
       "      <td>34.415816</td>\n",
       "      <td>12.622385</td>\n",
       "      <td>0.073429</td>\n",
       "      <td>0.122080</td>\n",
       "    </tr>\n",
       "  </tbody>\n",
       "</table>\n",
       "</div>"
      ],
      "text/plain": [
       "                           pct_change  pct_change2  pct_change5        rsi  \\\n",
       "2017-01-05 09:45:00+00:00   -0.000115    -0.000920    -0.000920  46.849667   \n",
       "2017-01-05 10:00:00+00:00   -0.003108    -0.003222    -0.003910  42.011647   \n",
       "2017-01-05 10:15:00+00:00   -0.002425    -0.005525    -0.005639  38.772892   \n",
       "2017-01-05 10:30:00+00:00   -0.000347    -0.002771    -0.006785  38.333830   \n",
       "2017-01-05 10:45:00+00:00   -0.003358    -0.003704    -0.009322  34.415816   \n",
       "\n",
       "                                 adx      corr  volatility  \n",
       "2017-01-05 09:45:00+00:00   9.932116  0.795243    0.112499  \n",
       "2017-01-05 10:00:00+00:00  10.304958  0.702034    0.092029  \n",
       "2017-01-05 10:15:00+00:00  10.916288  0.506866    0.103320  \n",
       "2017-01-05 10:30:00+00:00  11.716813  0.313286    0.103321  \n",
       "2017-01-05 10:45:00+00:00  12.622385  0.073429    0.122080  "
      ]
     },
     "execution_count": 13,
     "metadata": {},
     "output_type": "execute_result"
    }
   ],
   "source": [
    "X.head()"
   ]
  },
  {
   "cell_type": "markdown",
   "metadata": {
    "id": "AfjFbOmI2ViB"
   },
   "source": [
    "### Save the Files on Your Disk\n",
    "\n",
    "The dataframes `X` and `y` has the features and target variables stored. For further use, you can export this into a CSV file using the `to_csv` method of `pandas`. \n",
    "\n",
    "Syntax:\n",
    "```python\n",
    "DataFrame.to_csv(file_name)\n",
    "```\n",
    "\n",
    "The above line will save `DataFrame` as a CSV file with the name `file_name` on your local disk.\n",
    "\n",
    "<b> The following cell will not run in the browser. Download this notebook and convert the cell to \"Code\" type.</b>"
   ]
  },
  {
   "cell_type": "raw",
   "metadata": {
    "id": "aNWmagdw2ViC"
   },
   "source": [
    "# Convert the features to CSV\n",
    "X.to_csv(path + \"JPM_features_2017_2019.csv\")\n",
    "\n",
    "# Convert the target to CSV\n",
    "y.to_csv(path + \"JPM_target_2017_2019.csv\")"
   ]
  },
  {
   "cell_type": "markdown",
   "metadata": {
    "id": "I0QtmZcWtxsV"
   },
   "source": [
    "## Conclusion\n",
    "\n",
    "As most of the ML models requires stationary features, the final features in the dataframe are stationary. We have also dropped the highly correlated features. In the next section, you will learn about the types of ML algorithms.\n",
    "<br><br>"
   ]
  }
 ],
 "metadata": {
  "colab": {
   "collapsed_sections": [],
   "name": "Target_and_Features.ipynb",
   "provenance": []
  },
  "kernelspec": {
   "display_name": "Python 3 (ipykernel)",
   "language": "python",
   "name": "python3"
  },
  "language_info": {
   "codemirror_mode": {
    "name": "ipython",
    "version": 3
   },
   "file_extension": ".py",
   "mimetype": "text/x-python",
   "name": "python",
   "nbconvert_exporter": "python",
   "pygments_lexer": "ipython3",
   "version": "3.9.5"
  }
 },
 "nbformat": 4,
 "nbformat_minor": 1
}
