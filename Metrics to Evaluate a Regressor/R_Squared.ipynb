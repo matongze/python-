{
 "cells": [
  {
   "cell_type": "markdown",
   "metadata": {
    "id": "-aNMXR34oyll"
   },
   "source": [
    "# Notebook Instructions\n",
    "\n",
    "1. All the <u>code and data files</u> used in this course are available in the downloadable unit of the <u>last section of this course</u>.\n",
    "2. You can run the notebook document sequentially (one cell at a time) by pressing **shift + enter**. \n",
    "3. While a cell is running, a [*] is shown on the left. After the cell is run, the output will appear on the next line.\n",
    "\n",
    "This course is based on specific versions of python packages. You can find the details of the packages in <a href='https://quantra.quantinsti.com/quantra-notebook' target=\"_blank\" >this manual</a>."
   ]
  },
  {
   "cell_type": "markdown",
   "metadata": {
    "id": "wcUkAtnFoyls"
   },
   "source": [
    "# R-Squared\n",
    "\n",
    "In this notebook, you will learn about R-squared which is used to measure the goodness of fit of a Linear Regression model. You will understand the math behind the metric and you will also learn how to calculate it using the `sklearn` library in Python. \n",
    "\n",
    "In this notebook, you will perform the following steps:\n",
    "\n",
    "1. [Read the Data](#read)\n",
    "2. [Definition of R-squared](#definition)\n",
    "3. [Calculate R-squared](#calculate)\n",
    "4. [Limitations of R-squared](#limitation)\n",
    "5. [Conclusion](#conclusion)\n",
    "\n",
    "<a id='read'></a> \n",
    "## Read the Data\n",
    "The price data for Bank Of America and J.P. Morgan stocks are stored in the CSV file. The CSV file contains the price data of the stocks from 1 January 2019 to 31 December 2019. The stock price of J.P. Morgan is predicted using the stock price of Bank of America using linear regression and is stored in a column. To read a CSV file, you can use the `read_csv` method of `pandas`. "
   ]
  },
  {
   "cell_type": "code",
   "execution_count": 1,
   "metadata": {
    "colab": {
     "base_uri": "https://localhost:8080/",
     "height": 235
    },
    "executionInfo": {
     "elapsed": 1200,
     "status": "ok",
     "timestamp": 1608212696759,
     "user": {
      "displayName": "Satyapriya Chaudhari",
      "photoUrl": "https://lh3.googleusercontent.com/a-/AOh14GjQz6DVrrRmVg2uHHY4hcrgrL36TsLfvpvWmYer=s64",
      "userId": "12829952992438247302"
     },
     "user_tz": -330
    },
    "id": "qb7GNSLpoylt",
    "outputId": "df743aad-f663-4691-c43f-0a978e7a89a1"
   },
   "outputs": [
    {
     "data": {
      "text/html": [
       "<div>\n",
       "<style scoped>\n",
       "    .dataframe tbody tr th:only-of-type {\n",
       "        vertical-align: middle;\n",
       "    }\n",
       "\n",
       "    .dataframe tbody tr th {\n",
       "        vertical-align: top;\n",
       "    }\n",
       "\n",
       "    .dataframe thead th {\n",
       "        text-align: right;\n",
       "    }\n",
       "</style>\n",
       "<table border=\"1\" class=\"dataframe\">\n",
       "  <thead>\n",
       "    <tr style=\"text-align: right;\">\n",
       "      <th></th>\n",
       "      <th>BAC Close</th>\n",
       "      <th>Observed JPM</th>\n",
       "      <th>Predicted JPM_BAC</th>\n",
       "    </tr>\n",
       "    <tr>\n",
       "      <th>Date</th>\n",
       "      <th></th>\n",
       "      <th></th>\n",
       "      <th></th>\n",
       "    </tr>\n",
       "  </thead>\n",
       "  <tbody>\n",
       "    <tr>\n",
       "      <th>23-12-2019</th>\n",
       "      <td>35.17</td>\n",
       "      <td>137.20</td>\n",
       "      <td>137.44</td>\n",
       "    </tr>\n",
       "    <tr>\n",
       "      <th>24-12-2019</th>\n",
       "      <td>35.22</td>\n",
       "      <td>137.58</td>\n",
       "      <td>137.65</td>\n",
       "    </tr>\n",
       "    <tr>\n",
       "      <th>26-12-2019</th>\n",
       "      <td>35.52</td>\n",
       "      <td>139.04</td>\n",
       "      <td>138.92</td>\n",
       "    </tr>\n",
       "    <tr>\n",
       "      <th>27-12-2019</th>\n",
       "      <td>35.35</td>\n",
       "      <td>139.14</td>\n",
       "      <td>138.20</td>\n",
       "    </tr>\n",
       "    <tr>\n",
       "      <th>30-12-2019</th>\n",
       "      <td>35.15</td>\n",
       "      <td>138.63</td>\n",
       "      <td>137.36</td>\n",
       "    </tr>\n",
       "  </tbody>\n",
       "</table>\n",
       "</div>"
      ],
      "text/plain": [
       "            BAC Close  Observed JPM  Predicted JPM_BAC\n",
       "Date                                                  \n",
       "23-12-2019      35.17        137.20             137.44\n",
       "24-12-2019      35.22        137.58             137.65\n",
       "26-12-2019      35.52        139.04             138.92\n",
       "27-12-2019      35.35        139.14             138.20\n",
       "30-12-2019      35.15        138.63             137.36"
      ]
     },
     "execution_count": 1,
     "metadata": {},
     "output_type": "execute_result"
    }
   ],
   "source": [
    "# Import libraries\n",
    "import pandas as pd\n",
    "import warnings\n",
    "import matplotlib.pyplot as plt\n",
    "%matplotlib inline\n",
    "plt.style.use('seaborn-darkgrid')\n",
    "\n",
    "warnings.filterwarnings('ignore')\n",
    "\n",
    "# The data is stored in the directory 'data_modules'\n",
    "path = '../data_modules/'\n",
    "# Read the csv file using read_csv method of pandas\n",
    "data = pd.read_csv(path + 'jpm_and_bac_price_2019.csv', index_col=0)\n",
    "data.tail().round(2)"
   ]
  },
  {
   "cell_type": "markdown",
   "metadata": {
    "id": "WVbCYDmnoylw"
   },
   "source": [
    "You can see that the data consists of the stock price of BAC and J.P. Morgan and the predicted stock price of J.P. Morgan. Now let us see what is the R-squared for the observed and the predicted price of J.P. Morgan.\n",
    "\n",
    "<a id='definition'></a> \n",
    "## Definition of R-squared\n",
    "\n",
    "**R-squared** is also known as the **Coefficient of Determination** and is denoted by $R^2$.\n",
    "\n",
    "You have already seen that the R-squared explains the percentage of variation in the dependent variable, y, that is described by the independent variable, X. It is equal to the square of correlation. Mathematically,<br>\n",
    "\n",
    "$$\n",
    "R^2 = \\frac{Variance\\,Explained\\,by\\,the\\,Model}{Total\\,Variance}\\\\[1cm]\n",
    "=1 - \\frac{Unexplained\\,Variance}{Total\\,Variance}\\\\[1cm]\n",
    "=1 - \\frac{Sum\\,Squared\\,Regression\\,Error}{Sum\\,Squared\\,Total\\,Error}\\\\[1cm]\n",
    "=1 - \\frac{\\sum_{i=1}^n(y_i-\\hat y_i)^2}{\\sum_{i=1}^n(y_i-\\bar y)^2}\n",
    "$$\n",
    "\n",
    "where \n",
    "* $y_i$ is the observed value for the $i^{th}$ row \n",
    "* $\\hat y_i$ is the predicted value for the $i^{th}$ row\n",
    "* $\\bar y$ is the average of observed $y$'s.\n",
    "\n",
    "Now, since you understand the math behind $R^2$, what is the range of $R^2$? The value of $R^2$ always lies between 0 and 1. \n",
    "\n",
    "Refer back to the formula above, and you will be able to see that $R^2$ will be 1 if and only if all the $y_i$'s would be exactly equal to the respective $\\hat y_i$'s. That means $R^2$ will be 1 when the model will be able to predict all the values precisely. And $R^2$ will be 0 when the model will not be able to capture any relationship between the $X$'s and the $y$'s.\n",
    "\n",
    "<a id='calculate'></a> \n",
    "## Calculate R-squared\n",
    "\n",
    "Let us calculate the R-squared for the above data using the formula."
   ]
  },
  {
   "cell_type": "code",
   "execution_count": 2,
   "metadata": {
    "colab": {
     "base_uri": "https://localhost:8080/",
     "height": 35
    },
    "executionInfo": {
     "elapsed": 1277,
     "status": "ok",
     "timestamp": 1608212702534,
     "user": {
      "displayName": "Satyapriya Chaudhari",
      "photoUrl": "https://lh3.googleusercontent.com/a-/AOh14GjQz6DVrrRmVg2uHHY4hcrgrL36TsLfvpvWmYer=s64",
      "userId": "12829952992438247302"
     },
     "user_tz": -330
    },
    "id": "eB5juubBoylx",
    "outputId": "8fa25fcf-30a8-446e-b58b-ca2681ee5dba"
   },
   "outputs": [
    {
     "name": "stdout",
     "output_type": "stream",
     "text": [
      "The R-squared is 0.82\n"
     ]
    }
   ],
   "source": [
    "r_sq = 1 - ((data['Observed JPM']-data['Predicted JPM_BAC']) ** 2).sum()/((\n",
    "    data['Observed JPM'] - data['Observed JPM'].mean()) ** 2).sum()\n",
    "print('The R-squared is %.2f' % r_sq)"
   ]
  },
  {
   "cell_type": "markdown",
   "metadata": {
    "id": "69a4xftNoylx"
   },
   "source": [
    "The above value of R-squared means that 82% of the variance in the stock price of J.P. Morgan is explained by the variance in the stock price of Bank of America.\n",
    "\n",
    "You can also calculate the same using the `sklearn` library. The `sklearn` library has a `r2_score` function which can be imported as below\n",
    "```python\n",
    "from sklearn.metrics import r2_score\n",
    "```\n",
    "\n",
    "Using the `r2_score` function, the R-squared can be calculated as shown below\n",
    "```python\n",
    "r2_score(y_true,y_predicted)\n",
    "```"
   ]
  },
  {
   "cell_type": "code",
   "execution_count": 3,
   "metadata": {
    "colab": {
     "base_uri": "https://localhost:8080/",
     "height": 35
    },
    "executionInfo": {
     "elapsed": 1376,
     "status": "ok",
     "timestamp": 1608212704985,
     "user": {
      "displayName": "Satyapriya Chaudhari",
      "photoUrl": "https://lh3.googleusercontent.com/a-/AOh14GjQz6DVrrRmVg2uHHY4hcrgrL36TsLfvpvWmYer=s64",
      "userId": "12829952992438247302"
     },
     "user_tz": -330
    },
    "id": "vGpkF6K0oyly",
    "outputId": "cb23ac91-95ba-4341-b457-12f8e83568f0"
   },
   "outputs": [
    {
     "name": "stdout",
     "output_type": "stream",
     "text": [
      "The R-squared is 0.82\n"
     ]
    }
   ],
   "source": [
    "from sklearn.metrics import r2_score\n",
    "r_sq = r2_score(data['Observed JPM'], data['Predicted JPM_BAC'])\n",
    "print('The R-squared is %.2f' % r_sq)"
   ]
  },
  {
   "cell_type": "markdown",
   "metadata": {
    "id": "Scsu2vaooyly"
   },
   "source": [
    "Let us read another CSV file stored in the same directory and check the value of $R^2$. This file has observed and predicted stock price of J.P. Morgan. This time, the stock price of J.P. Morgan has been predicted using the stock price of Nestle."
   ]
  },
  {
   "cell_type": "code",
   "execution_count": 4,
   "metadata": {
    "colab": {
     "base_uri": "https://localhost:8080/",
     "height": 235
    },
    "executionInfo": {
     "elapsed": 1275,
     "status": "ok",
     "timestamp": 1608212705478,
     "user": {
      "displayName": "Satyapriya Chaudhari",
      "photoUrl": "https://lh3.googleusercontent.com/a-/AOh14GjQz6DVrrRmVg2uHHY4hcrgrL36TsLfvpvWmYer=s64",
      "userId": "12829952992438247302"
     },
     "user_tz": -330
    },
    "id": "caC62uMcoylz",
    "outputId": "199ee2a8-7ea9-440a-f354-402b0a2f6884"
   },
   "outputs": [
    {
     "data": {
      "text/html": [
       "<div>\n",
       "<style scoped>\n",
       "    .dataframe tbody tr th:only-of-type {\n",
       "        vertical-align: middle;\n",
       "    }\n",
       "\n",
       "    .dataframe tbody tr th {\n",
       "        vertical-align: top;\n",
       "    }\n",
       "\n",
       "    .dataframe thead th {\n",
       "        text-align: right;\n",
       "    }\n",
       "</style>\n",
       "<table border=\"1\" class=\"dataframe\">\n",
       "  <thead>\n",
       "    <tr style=\"text-align: right;\">\n",
       "      <th></th>\n",
       "      <th>Observed JPM</th>\n",
       "      <th>Nestle Close</th>\n",
       "      <th>Predicted JPM_Nestle</th>\n",
       "    </tr>\n",
       "    <tr>\n",
       "      <th>Date</th>\n",
       "      <th></th>\n",
       "      <th></th>\n",
       "      <th></th>\n",
       "    </tr>\n",
       "  </thead>\n",
       "  <tbody>\n",
       "    <tr>\n",
       "      <th>23-12-2019</th>\n",
       "      <td>137.20</td>\n",
       "      <td>108.80</td>\n",
       "      <td>120.21</td>\n",
       "    </tr>\n",
       "    <tr>\n",
       "      <th>24-12-2019</th>\n",
       "      <td>137.58</td>\n",
       "      <td>108.59</td>\n",
       "      <td>120.05</td>\n",
       "    </tr>\n",
       "    <tr>\n",
       "      <th>26-12-2019</th>\n",
       "      <td>139.04</td>\n",
       "      <td>108.71</td>\n",
       "      <td>120.14</td>\n",
       "    </tr>\n",
       "    <tr>\n",
       "      <th>27-12-2019</th>\n",
       "      <td>139.14</td>\n",
       "      <td>108.98</td>\n",
       "      <td>120.34</td>\n",
       "    </tr>\n",
       "    <tr>\n",
       "      <th>30-12-2019</th>\n",
       "      <td>138.63</td>\n",
       "      <td>107.85</td>\n",
       "      <td>119.49</td>\n",
       "    </tr>\n",
       "  </tbody>\n",
       "</table>\n",
       "</div>"
      ],
      "text/plain": [
       "            Observed JPM  Nestle Close  Predicted JPM_Nestle\n",
       "Date                                                        \n",
       "23-12-2019        137.20        108.80                120.21\n",
       "24-12-2019        137.58        108.59                120.05\n",
       "26-12-2019        139.04        108.71                120.14\n",
       "27-12-2019        139.14        108.98                120.34\n",
       "30-12-2019        138.63        107.85                119.49"
      ]
     },
     "execution_count": 4,
     "metadata": {},
     "output_type": "execute_result"
    }
   ],
   "source": [
    "data_nestle = pd.read_csv(path + 'predicted_jpm_and_nestle_price_2019.csv', index_col=0)\n",
    "data_nestle.tail().round(2)"
   ]
  },
  {
   "cell_type": "code",
   "execution_count": 5,
   "metadata": {
    "colab": {
     "base_uri": "https://localhost:8080/",
     "height": 35
    },
    "executionInfo": {
     "elapsed": 1329,
     "status": "ok",
     "timestamp": 1608212996081,
     "user": {
      "displayName": "Satyapriya Chaudhari",
      "photoUrl": "https://lh3.googleusercontent.com/a-/AOh14GjQz6DVrrRmVg2uHHY4hcrgrL36TsLfvpvWmYer=s64",
      "userId": "12829952992438247302"
     },
     "user_tz": -330
    },
    "id": "MIIpQaEdoylz",
    "outputId": "a60ba2a2-5738-4251-dd85-a1dd3ad2ec1b"
   },
   "outputs": [
    {
     "name": "stdout",
     "output_type": "stream",
     "text": [
      "The R-squared is 0.35\n"
     ]
    }
   ],
   "source": [
    "r_sq = r2_score(data_nestle['Observed JPM'], data_nestle['Predicted JPM_Nestle'])\n",
    "print('The R-squared is %.2f' % r_sq)"
   ]
  },
  {
   "cell_type": "markdown",
   "metadata": {
    "id": "a_tiTKB_oyl0"
   },
   "source": [
    "Can you interpret the value of $R^2$ above? The above value of R-squared, 0.35, means that only 35% of the variance in the stock price of J.P. Morgan is explained by the variance in the stock price of Nestle. \n",
    "\n",
    "Let us have a look at the plot of the JPM Price vs BAC Price and JPM Price vs Nestle Price."
   ]
  },
  {
   "cell_type": "code",
   "execution_count": 6,
   "metadata": {
    "colab": {
     "base_uri": "https://localhost:8080/",
     "height": 349
    },
    "executionInfo": {
     "elapsed": 1484,
     "status": "ok",
     "timestamp": 1608213111435,
     "user": {
      "displayName": "Satyapriya Chaudhari",
      "photoUrl": "https://lh3.googleusercontent.com/a-/AOh14GjQz6DVrrRmVg2uHHY4hcrgrL36TsLfvpvWmYer=s64",
      "userId": "12829952992438247302"
     },
     "user_tz": -330
    },
    "id": "t-azMH-8oyl0",
    "outputId": "2ac4a727-e44d-4f5b-8c93-a33a23170daa"
   },
   "outputs": [
    {
     "data": {
      "image/png": "[encoded data removed]",
      "text/plain": [
       "<Figure size 864x360 with 2 Axes>"
      ]
     },
     "metadata": {},
     "output_type": "display_data"
    }
   ],
   "source": [
    "fig, (ax1, ax2) = plt.subplots(1, 2, figsize=(12, 5))\n",
    "\n",
    "# Plot of JPM Price vs BAC Price\n",
    "ax1.scatter(data['BAC Close'], data['Observed JPM'], color=\"green\")\n",
    "ax1.plot(data['BAC Close'], data['Predicted JPM_BAC'])\n",
    "# Set title and labels for the plot\n",
    "ax1.set_title('BAC Group and JPM Price Graph, R-squared = %.2f' %r2_score(\n",
    "    data['Observed JPM'], data['Predicted JPM_BAC']), fontsize=14)\n",
    "ax1.set_xlabel('BAC Price', fontsize=12)\n",
    "ax1.set_ylabel('JPM Price', fontsize=12)\n",
    "\n",
    "\n",
    "# Plot of JPM Price vs Nestle Price\n",
    "ax2.scatter(data_nestle['Nestle Close'], data_nestle['Observed JPM'], color=\"red\")\n",
    "ax2.plot(data_nestle['Nestle Close'], data_nestle['Predicted JPM_Nestle'])\n",
    "# Set title and labels for the plot\n",
    "ax2.set_title('Nestle and JPM Price Graph, R-squared = %.2f' %r2_score(\n",
    "    data_nestle['Observed JPM'], data_nestle['Predicted JPM_Nestle']), fontsize=14)\n",
    "ax2.set_xlabel('Nestle Price', fontsize=12)\n",
    "ax2.set_ylabel('JPM Price', fontsize=12)\n",
    "\n",
    "plt.show()"
   ]
  },
  {
   "cell_type": "markdown",
   "metadata": {
    "id": "5icHC3_eoyl1"
   },
   "source": [
    "Of the two values of the $R^2$ that we have seen, which one do you think is better?\n",
    "\n",
    "Yes, the first value (82%) is better as it explains more variance. In the first graph, you can see that the points are closer to the line of best fit and scattered in the second graph. This explains the difference between the two values of the $R^2$.\n",
    "\n",
    "Intuitively, the change in the stock price of J.P. Morgan would be highly correlated to the change in the stock price of Bank of America and it would not be correlated to the change in the stock price of Nestle. This is because both, J.P. Morgan and Bank of America, belong to the same sector of Banking and are very sensitive to factors like interest rates. Nestle belongs to a different sector, Fast Moving Consumer Goods. The dynamics of this sector are different and are affected by different factors.\n",
    "\n",
    "<a id='limitation'></a> \n",
    "## Limitations of R-squared\n",
    "\n",
    "R-squared does not allow us to see if the predictions are biased. This can be done by the analysis of the residuals. Any pattern in the residual plot will help us identify the bias in our model if any. Hence a high $R^2$ alone will always not be a good statistic.\n",
    "\n",
    "<a id='conclusion'></a>\n",
    "## Conclusion\n",
    "\n",
    "R-squared is one of the most popular metrics to measure the goodness of fit of a linear regression model. Using R-squared, you concluded how the stock price of Bank of America was better able to explain the variance in the stock price of J.P. Morgan. Can you think of any other stock price that can also help you explain this variance? The stock price of any other bank or investment institute might do the job for you. Now it's your turn, you can download any such data from finance.yahoo.com and apply what you learned."
   ]
  }
 ],
 "metadata": {
  "colab": {
   "collapsed_sections": [],
   "name": "R Squared.ipynb",
   "provenance": []
  },
  "kernelspec": {
   "display_name": "Python 3",
   "language": "python",
   "name": "python3"
  },
  "language_info": {
   "codemirror_mode": {
    "name": "ipython",
    "version": 3
   },
   "file_extension": ".py",
   "mimetype": "text/x-python",
   "name": "python",
   "nbconvert_exporter": "python",
   "pygments_lexer": "ipython3",
   "version": "3.9.5"
  }
 },
 "nbformat": 4,
 "nbformat_minor": 1
}
