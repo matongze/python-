{
 "cells": [
  {
   "cell_type": "markdown",
   "metadata": {
    "id": "1o1PisNqkW-a"
   },
   "source": [
    "# Notebook Instructions\n",
    "\n",
    "1. All the <u>code and data files</u> used in this course are available in the downloadable unit of the <u>last section of this course</u>.\n",
    "2. You can run the notebook document sequentially (one cell at a time) by pressing **Shift + Enter**. \n",
    "3. While a cell is running, a [*] is shown on the left. After the cell is run, the output will appear on the next line.\n",
    "\n",
    "This course is based on specific versions of Python packages. You can find the details of the packages in <a href='https://quantra.quantinsti.com/quantra-notebook' target=\"_blank\" >this manual</a>."
   ]
  },
  {
   "cell_type": "markdown",
   "metadata": {
    "id": "V9gSsM-XkW-k"
   },
   "source": [
    "## Import Time Series Data\n",
    "\n",
    "There are a number of ways available to fetch financial time series data. You either use Python packages to download the data or you can read the data stored in a CSV file.\n",
    "\n",
    "In this notebook, you will learn the following ways:\n",
    "\n",
    "1. [Import Data from Yahoo Finance](#y-finance)<br>\n",
    "2. [Read Data from a CSV File](#read-data)\n",
    "\n",
    "\n",
    "<a id='y-finance'></a> \n",
    "## Import Data from Yahoo Finance\n",
    "\n",
    "To fetch data from Yahoo finance, you need to first install the `yfinance` package. You can do it using the `pip` command. The `pip` command is a tool for installing and managing Python packages.\n",
    "\n",
    "```python\n",
    "!pip install yfinance\n",
    "```\n",
    "\n",
    "You can fetch data from `yfinance` package using the `download` method.\n",
    "\n",
    "Syntax:\n",
    "```python\n",
    "import yfinance as yf\n",
    "yf.download(ticker, start, end)\n",
    "```\n",
    "1. **ticker:** Ticker of the stock\n",
    "2. **start:** Start date\n",
    "3. **end:** End date"
   ]
  },
  {
   "cell_type": "code",
   "execution_count": 1,
   "metadata": {
    "colab": {
     "base_uri": "https://localhost:8080/",
     "height": 252
    },
    "executionInfo": {
     "elapsed": 1194,
     "status": "ok",
     "timestamp": 1619781181124,
     "user": {
      "displayName": "Satyapriya Chaudhari",
      "photoUrl": "https://lh3.googleusercontent.com/a-/AOh14GjQz6DVrrRmVg2uHHY4hcrgrL36TsLfvpvWmYer=s64",
      "userId": "12829952992438247302"
     },
     "user_tz": -330
    },
    "id": "C43D4FFWkW-m",
    "outputId": "fa17f148-4fa7-45e8-8a9a-ad0ff9d2aaa5"
   },
   "outputs": [
    {
     "name": "stdout",
     "output_type": "stream",
     "text": [
      "[*********************100%***********************]  1 of 1 completed\n"
     ]
    },
    {
     "data": {
      "text/html": [
       "<div>\n",
       "<style scoped>\n",
       "    .dataframe tbody tr th:only-of-type {\n",
       "        vertical-align: middle;\n",
       "    }\n",
       "\n",
       "    .dataframe tbody tr th {\n",
       "        vertical-align: top;\n",
       "    }\n",
       "\n",
       "    .dataframe thead th {\n",
       "        text-align: right;\n",
       "    }\n",
       "</style>\n",
       "<table border=\"1\" class=\"dataframe\">\n",
       "  <thead>\n",
       "    <tr style=\"text-align: right;\">\n",
       "      <th></th>\n",
       "      <th>Open</th>\n",
       "      <th>High</th>\n",
       "      <th>Low</th>\n",
       "      <th>Close</th>\n",
       "      <th>Adj Close</th>\n",
       "      <th>Volume</th>\n",
       "    </tr>\n",
       "    <tr>\n",
       "      <th>Date</th>\n",
       "      <th></th>\n",
       "      <th></th>\n",
       "      <th></th>\n",
       "      <th></th>\n",
       "      <th></th>\n",
       "      <th></th>\n",
       "    </tr>\n",
       "  </thead>\n",
       "  <tbody>\n",
       "    <tr>\n",
       "      <th>2018-12-31</th>\n",
       "      <td>47.490002</td>\n",
       "      <td>47.540001</td>\n",
       "      <td>46.959999</td>\n",
       "      <td>47.349998</td>\n",
       "      <td>44.010803</td>\n",
       "      <td>10576300</td>\n",
       "    </tr>\n",
       "    <tr>\n",
       "      <th>2019-01-02</th>\n",
       "      <td>46.939999</td>\n",
       "      <td>47.220001</td>\n",
       "      <td>46.560001</td>\n",
       "      <td>46.930000</td>\n",
       "      <td>43.620419</td>\n",
       "      <td>11603700</td>\n",
       "    </tr>\n",
       "    <tr>\n",
       "      <th>2019-01-03</th>\n",
       "      <td>46.820000</td>\n",
       "      <td>47.369999</td>\n",
       "      <td>46.529999</td>\n",
       "      <td>46.639999</td>\n",
       "      <td>43.350868</td>\n",
       "      <td>14714400</td>\n",
       "    </tr>\n",
       "    <tr>\n",
       "      <th>2019-01-04</th>\n",
       "      <td>46.750000</td>\n",
       "      <td>47.570000</td>\n",
       "      <td>46.639999</td>\n",
       "      <td>47.570000</td>\n",
       "      <td>44.215286</td>\n",
       "      <td>13013700</td>\n",
       "    </tr>\n",
       "    <tr>\n",
       "      <th>2019-01-07</th>\n",
       "      <td>47.570000</td>\n",
       "      <td>47.750000</td>\n",
       "      <td>46.900002</td>\n",
       "      <td>46.950001</td>\n",
       "      <td>43.639008</td>\n",
       "      <td>13135500</td>\n",
       "    </tr>\n",
       "  </tbody>\n",
       "</table>\n",
       "</div>"
      ],
      "text/plain": [
       "                 Open       High        Low      Close  Adj Close    Volume\n",
       "Date                                                                       \n",
       "2018-12-31  47.490002  47.540001  46.959999  47.349998  44.010803  10576300\n",
       "2019-01-02  46.939999  47.220001  46.560001  46.930000  43.620419  11603700\n",
       "2019-01-03  46.820000  47.369999  46.529999  46.639999  43.350868  14714400\n",
       "2019-01-04  46.750000  47.570000  46.639999  47.570000  44.215286  13013700\n",
       "2019-01-07  47.570000  47.750000  46.900002  46.950001  43.639008  13135500"
      ]
     },
     "execution_count": 1,
     "metadata": {},
     "output_type": "execute_result"
    }
   ],
   "source": [
    "# Import yfinance\n",
    "import yfinance as yf\n",
    "\n",
    "# Fetch the Coca Cola price data\n",
    "data = yf.download('KO', start=\"2019-01-01\", end=\"2021-03-31\")\n",
    "\n",
    "# Display the data\n",
    "data.head()"
   ]
  },
  {
   "cell_type": "markdown",
   "metadata": {
    "id": "-DRfcccEfAQh"
   },
   "source": [
    "From the above output, you can see that the data imported has the close as well as the adjusted close price. The other information available are the open price, high price, low price and volume.\n",
    "\n",
    "You can also fetch the adjusted price data from `yfinance` package by adding one more parameter `auto_adjust` in `download`.\n",
    "\n",
    "Syntax:\n",
    "```python\n",
    "yf.download(ticker, start, end, auto_adjust=True)\n",
    "```\n",
    "**auto_adjust:** Set this to `True` to download the adjusted price. By default, it is `False`."
   ]
  },
  {
   "cell_type": "code",
   "execution_count": 2,
   "metadata": {
    "colab": {
     "base_uri": "https://localhost:8080/",
     "height": 252
    },
    "executionInfo": {
     "elapsed": 1263,
     "status": "ok",
     "timestamp": 1619781209563,
     "user": {
      "displayName": "Satyapriya Chaudhari",
      "photoUrl": "https://lh3.googleusercontent.com/a-/AOh14GjQz6DVrrRmVg2uHHY4hcrgrL36TsLfvpvWmYer=s64",
      "userId": "12829952992438247302"
     },
     "user_tz": -330
    },
    "id": "eQS_d-9be3Az",
    "outputId": "04a2bc54-6246-4f24-b6a1-ef032df065d5"
   },
   "outputs": [
    {
     "name": "stdout",
     "output_type": "stream",
     "text": [
      "[*********************100%***********************]  1 of 1 completed\n"
     ]
    },
    {
     "data": {
      "text/html": [
       "<div>\n",
       "<style scoped>\n",
       "    .dataframe tbody tr th:only-of-type {\n",
       "        vertical-align: middle;\n",
       "    }\n",
       "\n",
       "    .dataframe tbody tr th {\n",
       "        vertical-align: top;\n",
       "    }\n",
       "\n",
       "    .dataframe thead th {\n",
       "        text-align: right;\n",
       "    }\n",
       "</style>\n",
       "<table border=\"1\" class=\"dataframe\">\n",
       "  <thead>\n",
       "    <tr style=\"text-align: right;\">\n",
       "      <th></th>\n",
       "      <th>Open</th>\n",
       "      <th>High</th>\n",
       "      <th>Low</th>\n",
       "      <th>Close</th>\n",
       "      <th>Volume</th>\n",
       "    </tr>\n",
       "    <tr>\n",
       "      <th>Date</th>\n",
       "      <th></th>\n",
       "      <th></th>\n",
       "      <th></th>\n",
       "      <th></th>\n",
       "      <th></th>\n",
       "    </tr>\n",
       "  </thead>\n",
       "  <tbody>\n",
       "    <tr>\n",
       "      <th>2018-12-31</th>\n",
       "      <td>44.140933</td>\n",
       "      <td>44.187406</td>\n",
       "      <td>43.648307</td>\n",
       "      <td>44.010803</td>\n",
       "      <td>10576300</td>\n",
       "    </tr>\n",
       "    <tr>\n",
       "      <th>2019-01-02</th>\n",
       "      <td>43.629712</td>\n",
       "      <td>43.889968</td>\n",
       "      <td>43.276513</td>\n",
       "      <td>43.620419</td>\n",
       "      <td>11603700</td>\n",
       "    </tr>\n",
       "    <tr>\n",
       "      <th>2019-01-03</th>\n",
       "      <td>43.518175</td>\n",
       "      <td>44.029387</td>\n",
       "      <td>43.248625</td>\n",
       "      <td>43.350868</td>\n",
       "      <td>14714400</td>\n",
       "    </tr>\n",
       "    <tr>\n",
       "      <th>2019-01-04</th>\n",
       "      <td>43.453114</td>\n",
       "      <td>44.215286</td>\n",
       "      <td>43.350871</td>\n",
       "      <td>44.215286</td>\n",
       "      <td>13013700</td>\n",
       "    </tr>\n",
       "    <tr>\n",
       "      <th>2019-01-07</th>\n",
       "      <td>44.215283</td>\n",
       "      <td>44.382590</td>\n",
       "      <td>43.592534</td>\n",
       "      <td>43.639008</td>\n",
       "      <td>13135500</td>\n",
       "    </tr>\n",
       "  </tbody>\n",
       "</table>\n",
       "</div>"
      ],
      "text/plain": [
       "                 Open       High        Low      Close    Volume\n",
       "Date                                                            \n",
       "2018-12-31  44.140933  44.187406  43.648307  44.010803  10576300\n",
       "2019-01-02  43.629712  43.889968  43.276513  43.620419  11603700\n",
       "2019-01-03  43.518175  44.029387  43.248625  43.350868  14714400\n",
       "2019-01-04  43.453114  44.215286  43.350871  44.215286  13013700\n",
       "2019-01-07  44.215283  44.382590  43.592534  43.639008  13135500"
      ]
     },
     "execution_count": 2,
     "metadata": {},
     "output_type": "execute_result"
    }
   ],
   "source": [
    "# Fetch the adjusted price data\n",
    "data = yf.download('KO', start=\"2019-01-01\", end=\"2021-03-31\", auto_adjust=True)\n",
    "\n",
    "# Display the data\n",
    "data.head()"
   ]
  },
  {
   "cell_type": "markdown",
   "metadata": {
    "id": "JdcLQQQtkW-r"
   },
   "source": [
    "Now you have the adjusted price data.\n",
    "\n",
    "<a id='read-data'></a> \n",
    "## Read Data from a CSV File\n",
    "\n",
    "A CSV (Comma Separated Value) file stores tabular content in form of plain text. The values are separated by a comma. You can use `pandas.read_csv()` to read the CSV file. The stock price of Coca Cola from January 2019 to March 2021 is stored in a CSV file, `coca_cola_price.csv`. It has the following information:\n",
    "\n",
    "|Column No.|Column Name|\n",
    "|---|---|\n",
    "|1.|Date|\n",
    "|2.|Open|\n",
    "|3.|High|\n",
    "|4.|Low|\n",
    "|5.|Close|\n",
    "|6.|Adj Close|\n",
    "|7.|Volume|\n",
    "\n",
    "Syntax:\n",
    "```python\n",
    "import pandas as pd\n",
    "pd.read_csv(filename,index_col)\n",
    "```\n",
    "1. **filename**: Path + name of the file in the string format\n",
    "2. **index_col**: The column number to set as index (index begins from 0)"
   ]
  },
  {
   "cell_type": "code",
   "execution_count": 3,
   "metadata": {
    "id": "ogNqmlNukW-s",
    "outputId": "40031568-c928-4235-ee6a-f10a0a742de2"
   },
   "outputs": [
    {
     "data": {
      "text/html": [
       "<div>\n",
       "<style scoped>\n",
       "    .dataframe tbody tr th:only-of-type {\n",
       "        vertical-align: middle;\n",
       "    }\n",
       "\n",
       "    .dataframe tbody tr th {\n",
       "        vertical-align: top;\n",
       "    }\n",
       "\n",
       "    .dataframe thead th {\n",
       "        text-align: right;\n",
       "    }\n",
       "</style>\n",
       "<table border=\"1\" class=\"dataframe\">\n",
       "  <thead>\n",
       "    <tr style=\"text-align: right;\">\n",
       "      <th></th>\n",
       "      <th>Open</th>\n",
       "      <th>High</th>\n",
       "      <th>Low</th>\n",
       "      <th>Close</th>\n",
       "      <th>Adj Close</th>\n",
       "      <th>Volume</th>\n",
       "    </tr>\n",
       "    <tr>\n",
       "      <th>Date</th>\n",
       "      <th></th>\n",
       "      <th></th>\n",
       "      <th></th>\n",
       "      <th></th>\n",
       "      <th></th>\n",
       "      <th></th>\n",
       "    </tr>\n",
       "  </thead>\n",
       "  <tbody>\n",
       "    <tr>\n",
       "      <th>2019-01-02</th>\n",
       "      <td>46.939999</td>\n",
       "      <td>47.220001</td>\n",
       "      <td>46.560001</td>\n",
       "      <td>46.930000</td>\n",
       "      <td>43.620419</td>\n",
       "      <td>11603700</td>\n",
       "    </tr>\n",
       "    <tr>\n",
       "      <th>2019-01-03</th>\n",
       "      <td>46.820000</td>\n",
       "      <td>47.369999</td>\n",
       "      <td>46.529999</td>\n",
       "      <td>46.639999</td>\n",
       "      <td>43.350868</td>\n",
       "      <td>14714400</td>\n",
       "    </tr>\n",
       "    <tr>\n",
       "      <th>2019-01-04</th>\n",
       "      <td>46.750000</td>\n",
       "      <td>47.570000</td>\n",
       "      <td>46.639999</td>\n",
       "      <td>47.570000</td>\n",
       "      <td>44.215286</td>\n",
       "      <td>13013700</td>\n",
       "    </tr>\n",
       "    <tr>\n",
       "      <th>2019-01-07</th>\n",
       "      <td>47.570000</td>\n",
       "      <td>47.750000</td>\n",
       "      <td>46.900002</td>\n",
       "      <td>46.950001</td>\n",
       "      <td>43.639008</td>\n",
       "      <td>13135500</td>\n",
       "    </tr>\n",
       "    <tr>\n",
       "      <th>2019-01-08</th>\n",
       "      <td>47.250000</td>\n",
       "      <td>47.570000</td>\n",
       "      <td>47.040001</td>\n",
       "      <td>47.480000</td>\n",
       "      <td>44.131630</td>\n",
       "      <td>15420700</td>\n",
       "    </tr>\n",
       "  </tbody>\n",
       "</table>\n",
       "</div>"
      ],
      "text/plain": [
       "                 Open       High        Low      Close  Adj Close    Volume\n",
       "Date                                                                       \n",
       "2019-01-02  46.939999  47.220001  46.560001  46.930000  43.620419  11603700\n",
       "2019-01-03  46.820000  47.369999  46.529999  46.639999  43.350868  14714400\n",
       "2019-01-04  46.750000  47.570000  46.639999  47.570000  44.215286  13013700\n",
       "2019-01-07  47.570000  47.750000  46.900002  46.950001  43.639008  13135500\n",
       "2019-01-08  47.250000  47.570000  47.040001  47.480000  44.131630  15420700"
      ]
     },
     "execution_count": 3,
     "metadata": {},
     "output_type": "execute_result"
    }
   ],
   "source": [
    "# Import pandas as alias 'pd'\n",
    "import pandas as pd\n",
    "\n",
    "# The data is stored in the directory 'data_modules'\n",
    "path = '../data_modules/'\n",
    "\n",
    "# Loading the data using CSV file and set 'Date' as the index\n",
    "coca_cola = pd.read_csv(path + 'coca_cola_price.csv', index_col=0)\n",
    "\n",
    "# Display the data\n",
    "coca_cola.head()"
   ]
  },
  {
   "cell_type": "markdown",
   "metadata": {
    "id": "J7nuU8MTo2tC"
   },
   "source": [
    "This is a time series data with `Date` column as the index. So you can convert the index to datetime format. Working with datetime index is much simpler than working with string index as you can do a lot of operations with a datetime object in Python. You can use `pandas.to_datetime` method to convert the index to datetime.\n",
    "\n",
    "Syntax:\n",
    "```python\n",
    "pandas.to_datetime(DataFrame.index)\n",
    "```"
   ]
  },
  {
   "cell_type": "code",
   "execution_count": 4,
   "metadata": {
    "id": "dWLTJ5KTo2tC",
    "outputId": "0e750982-8254-4127-c4ac-968adb708435"
   },
   "outputs": [
    {
     "data": {
      "text/html": [
       "<div>\n",
       "<style scoped>\n",
       "    .dataframe tbody tr th:only-of-type {\n",
       "        vertical-align: middle;\n",
       "    }\n",
       "\n",
       "    .dataframe tbody tr th {\n",
       "        vertical-align: top;\n",
       "    }\n",
       "\n",
       "    .dataframe thead th {\n",
       "        text-align: right;\n",
       "    }\n",
       "</style>\n",
       "<table border=\"1\" class=\"dataframe\">\n",
       "  <thead>\n",
       "    <tr style=\"text-align: right;\">\n",
       "      <th></th>\n",
       "      <th>Open</th>\n",
       "      <th>High</th>\n",
       "      <th>Low</th>\n",
       "      <th>Close</th>\n",
       "      <th>Adj Close</th>\n",
       "      <th>Volume</th>\n",
       "    </tr>\n",
       "    <tr>\n",
       "      <th>Date</th>\n",
       "      <th></th>\n",
       "      <th></th>\n",
       "      <th></th>\n",
       "      <th></th>\n",
       "      <th></th>\n",
       "      <th></th>\n",
       "    </tr>\n",
       "  </thead>\n",
       "  <tbody>\n",
       "    <tr>\n",
       "      <th>2019-01-02</th>\n",
       "      <td>46.939999</td>\n",
       "      <td>47.220001</td>\n",
       "      <td>46.560001</td>\n",
       "      <td>46.930000</td>\n",
       "      <td>43.620419</td>\n",
       "      <td>11603700</td>\n",
       "    </tr>\n",
       "    <tr>\n",
       "      <th>2019-01-03</th>\n",
       "      <td>46.820000</td>\n",
       "      <td>47.369999</td>\n",
       "      <td>46.529999</td>\n",
       "      <td>46.639999</td>\n",
       "      <td>43.350868</td>\n",
       "      <td>14714400</td>\n",
       "    </tr>\n",
       "    <tr>\n",
       "      <th>2019-01-04</th>\n",
       "      <td>46.750000</td>\n",
       "      <td>47.570000</td>\n",
       "      <td>46.639999</td>\n",
       "      <td>47.570000</td>\n",
       "      <td>44.215286</td>\n",
       "      <td>13013700</td>\n",
       "    </tr>\n",
       "    <tr>\n",
       "      <th>2019-01-07</th>\n",
       "      <td>47.570000</td>\n",
       "      <td>47.750000</td>\n",
       "      <td>46.900002</td>\n",
       "      <td>46.950001</td>\n",
       "      <td>43.639008</td>\n",
       "      <td>13135500</td>\n",
       "    </tr>\n",
       "    <tr>\n",
       "      <th>2019-01-08</th>\n",
       "      <td>47.250000</td>\n",
       "      <td>47.570000</td>\n",
       "      <td>47.040001</td>\n",
       "      <td>47.480000</td>\n",
       "      <td>44.131630</td>\n",
       "      <td>15420700</td>\n",
       "    </tr>\n",
       "  </tbody>\n",
       "</table>\n",
       "</div>"
      ],
      "text/plain": [
       "                 Open       High        Low      Close  Adj Close    Volume\n",
       "Date                                                                       \n",
       "2019-01-02  46.939999  47.220001  46.560001  46.930000  43.620419  11603700\n",
       "2019-01-03  46.820000  47.369999  46.529999  46.639999  43.350868  14714400\n",
       "2019-01-04  46.750000  47.570000  46.639999  47.570000  44.215286  13013700\n",
       "2019-01-07  47.570000  47.750000  46.900002  46.950001  43.639008  13135500\n",
       "2019-01-08  47.250000  47.570000  47.040001  47.480000  44.131630  15420700"
      ]
     },
     "execution_count": 4,
     "metadata": {},
     "output_type": "execute_result"
    }
   ],
   "source": [
    "# Convert the index to date_time format\n",
    "coca_cola.index = pd.to_datetime(coca_cola.index)\n",
    "\n",
    "# Display the data\n",
    "coca_cola.head()"
   ]
  },
  {
   "cell_type": "markdown",
   "metadata": {
    "id": "yERtBY7skW-s"
   },
   "source": [
    "You can also explore various other methods to get financial data. Read the blog on [stock market data and analysis](https://blog.quantinsti.com/stock-market-data-analysis-python/) for the same. <br><br>"
   ]
  }
 ],
 "metadata": {
  "colab": {
   "collapsed_sections": [],
   "name": "Import Time Series Data.ipynb",
   "provenance": []
  },
  "kernelspec": {
   "display_name": "Python 3",
   "language": "python",
   "name": "python3"
  },
  "language_info": {
   "codemirror_mode": {
    "name": "ipython",
    "version": 3
   },
   "file_extension": ".py",
   "mimetype": "text/x-python",
   "name": "python",
   "nbconvert_exporter": "python",
   "pygments_lexer": "ipython3",
   "version": "3.7.1"
  }
 },
 "nbformat": 4,
 "nbformat_minor": 1
}
