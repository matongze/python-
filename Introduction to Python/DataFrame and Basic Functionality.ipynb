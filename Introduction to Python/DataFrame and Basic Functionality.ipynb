{
 "cells": [
  {
   "cell_type": "markdown",
   "metadata": {
    "id": "IOpUEWx6uyhj"
   },
   "source": [
    "# Notebook Instructions\n",
    "\n",
    "1. All the <u>code and data files</u> used in this course are available in the downloadable unit of the <u>last section of this course</u>.\n",
    "2. You can run the notebook document sequentially (one cell at a time) by pressing **shift + enter**. \n",
    "3. While a cell is running, a [*] is shown on the left. After the cell is run, the output will appear on the next line.\n",
    "\n",
    "This course is based on specific versions of Python packages. You can find the details of the packages in <a href='https://quantra.quantinsti.com/quantra-notebook' target=\"_blank\" >this manual</a>."
   ]
  },
  {
   "cell_type": "markdown",
   "metadata": {
    "id": "KSiOeIOK8kjV"
   },
   "source": [
    "## DataFrame and Basic Functionality\n",
    "\n",
    "The underlying idea of a dataframe is based on 'spreadsheets'. In other words, dataframes store data in discrete rows and columns. There are multiple columns in a dataframe. Each column in a dataframe can also have a name. \n",
    "\n",
    "Python has a library, `pandas`, which has a very powerful data structure that can help you manage data very effectively. This data structure is called **DataFrame**. \n",
    "\n",
    "In this notebook, you will perform the following tasks.\n",
    "\n",
    "1. [Create a Dataframe](#create-dataframe)\n",
    "2. [Load the Financial Market Data](#load-data)\n",
    "3. [Structure of a Dataframe](#structure)\n",
    "4. [Head and Tail of a Dataframe](#head-and-tail)\n",
    "5. [Access Elements of a Dataframe](#accessing-elements)\n",
    "  <br>a. [loc](#loc)\n",
    "  <br>b. [iloc](#iloc)\n",
    "  <br>c. [Boolean Indexing](#boolean)\n",
    "6. [Access a Column in a Dataframe](#access-column)\n",
    "7. [Remove Rows & Columns from a Dataframe](#remove-rows-columns)\n",
    "8. [Add Columns to a Dataframe](#add-columns)"
   ]
  },
  {
   "cell_type": "markdown",
   "metadata": {
    "id": "XW_d2BnQuyhs"
   },
   "source": [
    "<a id='create-dataframe'></a> \n",
    "## Create a Dataframe\n",
    "\n",
    "To create a dataframe, you will first need to import `pandas` library. After importing the library, you can use the `DataFrame` method to create the dataframe. The constructor for a dataframe is as below.\n",
    "\n",
    "```python\n",
    "import pandas as pd\n",
    "pd.DataFrame(data=None, index=None)\n",
    "```\n",
    "\n",
    "Let us look at the following example."
   ]
  },
  {
   "cell_type": "code",
   "execution_count": 1,
   "metadata": {
    "id": "MNcfPLiFuyht",
    "outputId": "b6e06f5e-cccc-4b19-9619-ec0e259e0dbd"
   },
   "outputs": [
    {
     "data": {
      "text/html": [
       "<div>\n",
       "<style scoped>\n",
       "    .dataframe tbody tr th:only-of-type {\n",
       "        vertical-align: middle;\n",
       "    }\n",
       "\n",
       "    .dataframe tbody tr th {\n",
       "        vertical-align: top;\n",
       "    }\n",
       "\n",
       "    .dataframe thead th {\n",
       "        text-align: right;\n",
       "    }\n",
       "</style>\n",
       "<table border=\"1\" class=\"dataframe\">\n",
       "  <thead>\n",
       "    <tr style=\"text-align: right;\">\n",
       "      <th></th>\n",
       "      <th>stock_name</th>\n",
       "      <th>quantity_owned</th>\n",
       "      <th>average_buy_price</th>\n",
       "    </tr>\n",
       "  </thead>\n",
       "  <tbody>\n",
       "    <tr>\n",
       "      <th>0</th>\n",
       "      <td>Coca Cola</td>\n",
       "      <td>1564</td>\n",
       "      <td>950</td>\n",
       "    </tr>\n",
       "    <tr>\n",
       "      <th>1</th>\n",
       "      <td>Facebook</td>\n",
       "      <td>6546</td>\n",
       "      <td>160</td>\n",
       "    </tr>\n",
       "    <tr>\n",
       "      <th>2</th>\n",
       "      <td>Apple</td>\n",
       "      <td>5464</td>\n",
       "      <td>120</td>\n",
       "    </tr>\n",
       "    <tr>\n",
       "      <th>3</th>\n",
       "      <td>Tesla</td>\n",
       "      <td>6513</td>\n",
       "      <td>270</td>\n",
       "    </tr>\n",
       "    <tr>\n",
       "      <th>4</th>\n",
       "      <td>Infosys</td>\n",
       "      <td>4155</td>\n",
       "      <td>15</td>\n",
       "    </tr>\n",
       "  </tbody>\n",
       "</table>\n",
       "</div>"
      ],
      "text/plain": [
       "  stock_name  quantity_owned  average_buy_price\n",
       "0  Coca Cola            1564                950\n",
       "1   Facebook            6546                160\n",
       "2      Apple            5464                120\n",
       "3      Tesla            6513                270\n",
       "4    Infosys            4155                 15"
      ]
     },
     "execution_count": 1,
     "metadata": {},
     "output_type": "execute_result"
    }
   ],
   "source": [
    "# Import pandas as alias pd\n",
    "import pandas as pd\n",
    "\n",
    "# A dataframe has a row and a column index\n",
    "# Data to be stored in the dataframe\n",
    "my_portfolio = {\n",
    "    \"stock_name\": [\"Coca Cola\", \"Facebook\", \"Apple\", \"Tesla\", \"Infosys\"],\n",
    "    \"quantity_owned\": [1564, 6546, 5464, 6513, 4155],\n",
    "    \"average_buy_price\": [950, 160, 120, 270, 15]\n",
    "}\n",
    "\n",
    "# Pass 'my_portfolio' as the argument in the dataframe constructor\n",
    "my_portfolio_frame = pd.DataFrame(my_portfolio)\n",
    "\n",
    "# Display the dataframe\n",
    "my_portfolio_frame"
   ]
  },
  {
   "cell_type": "markdown",
   "metadata": {
    "id": "u65gRZFt8kjc"
   },
   "source": [
    "<a id='structure'></a> \n",
    "## Structure of a Dataframe\n",
    "\n",
    "Let's look at the output above. `stock_name`, `quantity_owned` and `average_buy_price` are the **columns** of the dataframe. Each column can be accessed by the name of the column. The first column that you see (numbers 0 to 4) is the **index** of the dataframe. Each **row** can be accessed by the index of the row. \n",
    "\n",
    "We will come back to this a bit later and see how to access the rows and columns. Before that let's look at the index. Right now, if you want to access the information for any particular stock, you will have to know the row number. Wouldn't it be great, if the stock names are the index instead? You can do this by using the `set_index` method.\n",
    "\n",
    "Syntax:\n",
    "```python\n",
    "DataFrame.set_index(column_name)\n",
    "```\n",
    "**column_name:** Name of the column you want to set the index "
   ]
  },
  {
   "cell_type": "code",
   "execution_count": 2,
   "metadata": {
    "id": "h4_aCGD8dvvJ",
    "outputId": "5eeacf4a-f3f8-4a80-a014-da8d804a69ad"
   },
   "outputs": [
    {
     "data": {
      "text/html": [
       "<div>\n",
       "<style scoped>\n",
       "    .dataframe tbody tr th:only-of-type {\n",
       "        vertical-align: middle;\n",
       "    }\n",
       "\n",
       "    .dataframe tbody tr th {\n",
       "        vertical-align: top;\n",
       "    }\n",
       "\n",
       "    .dataframe thead th {\n",
       "        text-align: right;\n",
       "    }\n",
       "</style>\n",
       "<table border=\"1\" class=\"dataframe\">\n",
       "  <thead>\n",
       "    <tr style=\"text-align: right;\">\n",
       "      <th></th>\n",
       "      <th>quantity_owned</th>\n",
       "      <th>average_buy_price</th>\n",
       "    </tr>\n",
       "    <tr>\n",
       "      <th>stock_name</th>\n",
       "      <th></th>\n",
       "      <th></th>\n",
       "    </tr>\n",
       "  </thead>\n",
       "  <tbody>\n",
       "    <tr>\n",
       "      <th>Coca Cola</th>\n",
       "      <td>1564</td>\n",
       "      <td>950</td>\n",
       "    </tr>\n",
       "    <tr>\n",
       "      <th>Facebook</th>\n",
       "      <td>6546</td>\n",
       "      <td>160</td>\n",
       "    </tr>\n",
       "    <tr>\n",
       "      <th>Apple</th>\n",
       "      <td>5464</td>\n",
       "      <td>120</td>\n",
       "    </tr>\n",
       "    <tr>\n",
       "      <th>Tesla</th>\n",
       "      <td>6513</td>\n",
       "      <td>270</td>\n",
       "    </tr>\n",
       "    <tr>\n",
       "      <th>Infosys</th>\n",
       "      <td>4155</td>\n",
       "      <td>15</td>\n",
       "    </tr>\n",
       "  </tbody>\n",
       "</table>\n",
       "</div>"
      ],
      "text/plain": [
       "            quantity_owned  average_buy_price\n",
       "stock_name                                   \n",
       "Coca Cola             1564                950\n",
       "Facebook              6546                160\n",
       "Apple                 5464                120\n",
       "Tesla                 6513                270\n",
       "Infosys               4155                 15"
      ]
     },
     "execution_count": 2,
     "metadata": {},
     "output_type": "execute_result"
    }
   ],
   "source": [
    "# Set the 'stock_name' as the index of the dataframe\n",
    "my_portfolio_frame = my_portfolio_frame.set_index('stock_name')\n",
    "\n",
    "# Display the dataframe\n",
    "my_portfolio_frame.head()"
   ]
  },
  {
   "cell_type": "markdown",
   "metadata": {
    "id": "lX1z0C7Wuyhz"
   },
   "source": [
    "You can see that now the **stock_name** is the index of the dataframe. Hence, if you want to access the information of any particular asset, you can simply do it by its name.\n",
    "\n",
    "<a id='load-data'></a>\n",
    "## Load the Financial Market Data\n",
    "\n",
    "You can also store the financial market data in a dataframe. These data might be available in form of an excel spreadsheet or a CSV file. You can work with these files by reading them as a dataframe. You can also import data from web sources using different Python packages. This is later covered in detail in the next notebook on importing data. \n",
    "\n",
    "For now, the stock price data of Coca Cola from January 2019 to March 2021 is available in a CSV file. You can find this data in the downloadable section at the end of the course.\n",
    "\n",
    "You can use `pandas.read_csv()` to read the csv file.\n",
    "\n",
    "Syntax:\n",
    "```python\n",
    "pd.read_csv(filename,index_col)\n",
    "```\n",
    "1. **filename**: Complete path of the file in the string format\n",
    "2. **index_col**: The column number to set as index\n",
    "\n",
    "The data file is stored in a directory `data_modules`. We will store this in a variable path to simplify the code."
   ]
  },
  {
   "cell_type": "code",
   "execution_count": 3,
   "metadata": {
    "id": "_hPhsyFJuyhz"
   },
   "outputs": [],
   "source": [
    "# The data is stored in the directory 'data_modules'\n",
    "path = '../data_modules/'\n",
    "\n",
    "# Loading data using CSV file\n",
    "coca_cola = pd.read_csv(path + 'coca_cola_price.csv', index_col=0)"
   ]
  },
  {
   "cell_type": "markdown",
   "metadata": {
    "id": "IBN7__vtdvvN"
   },
   "source": [
    "Here, the filename `path + 'coca_cola_price.csv'` is addition of two strings. It becomes `'../data_modules/coca_cola_price.csv'`."
   ]
  },
  {
   "cell_type": "code",
   "execution_count": 4,
   "metadata": {
    "id": "gustaCxyuyhz",
    "outputId": "e4f8fd2b-d003-45bb-9adf-f097e6a4eb71"
   },
   "outputs": [
    {
     "data": {
      "text/html": [
       "<div>\n",
       "<style scoped>\n",
       "    .dataframe tbody tr th:only-of-type {\n",
       "        vertical-align: middle;\n",
       "    }\n",
       "\n",
       "    .dataframe tbody tr th {\n",
       "        vertical-align: top;\n",
       "    }\n",
       "\n",
       "    .dataframe thead th {\n",
       "        text-align: right;\n",
       "    }\n",
       "</style>\n",
       "<table border=\"1\" class=\"dataframe\">\n",
       "  <thead>\n",
       "    <tr style=\"text-align: right;\">\n",
       "      <th></th>\n",
       "      <th>Open</th>\n",
       "      <th>High</th>\n",
       "      <th>Low</th>\n",
       "      <th>Close</th>\n",
       "      <th>Adj Close</th>\n",
       "      <th>Volume</th>\n",
       "    </tr>\n",
       "    <tr>\n",
       "      <th>Date</th>\n",
       "      <th></th>\n",
       "      <th></th>\n",
       "      <th></th>\n",
       "      <th></th>\n",
       "      <th></th>\n",
       "      <th></th>\n",
       "    </tr>\n",
       "  </thead>\n",
       "  <tbody>\n",
       "    <tr>\n",
       "      <th>2019-01-02</th>\n",
       "      <td>46.939999</td>\n",
       "      <td>47.220001</td>\n",
       "      <td>46.560001</td>\n",
       "      <td>46.930000</td>\n",
       "      <td>43.620419</td>\n",
       "      <td>11603700</td>\n",
       "    </tr>\n",
       "    <tr>\n",
       "      <th>2019-01-03</th>\n",
       "      <td>46.820000</td>\n",
       "      <td>47.369999</td>\n",
       "      <td>46.529999</td>\n",
       "      <td>46.639999</td>\n",
       "      <td>43.350868</td>\n",
       "      <td>14714400</td>\n",
       "    </tr>\n",
       "    <tr>\n",
       "      <th>2019-01-04</th>\n",
       "      <td>46.750000</td>\n",
       "      <td>47.570000</td>\n",
       "      <td>46.639999</td>\n",
       "      <td>47.570000</td>\n",
       "      <td>44.215286</td>\n",
       "      <td>13013700</td>\n",
       "    </tr>\n",
       "    <tr>\n",
       "      <th>2019-01-07</th>\n",
       "      <td>47.570000</td>\n",
       "      <td>47.750000</td>\n",
       "      <td>46.900002</td>\n",
       "      <td>46.950001</td>\n",
       "      <td>43.639008</td>\n",
       "      <td>13135500</td>\n",
       "    </tr>\n",
       "    <tr>\n",
       "      <th>2019-01-08</th>\n",
       "      <td>47.250000</td>\n",
       "      <td>47.570000</td>\n",
       "      <td>47.040001</td>\n",
       "      <td>47.480000</td>\n",
       "      <td>44.131630</td>\n",
       "      <td>15420700</td>\n",
       "    </tr>\n",
       "    <tr>\n",
       "      <th>...</th>\n",
       "      <td>...</td>\n",
       "      <td>...</td>\n",
       "      <td>...</td>\n",
       "      <td>...</td>\n",
       "      <td>...</td>\n",
       "      <td>...</td>\n",
       "    </tr>\n",
       "    <tr>\n",
       "      <th>2021-03-24</th>\n",
       "      <td>51.169998</td>\n",
       "      <td>51.889999</td>\n",
       "      <td>51.150002</td>\n",
       "      <td>51.520000</td>\n",
       "      <td>51.520000</td>\n",
       "      <td>14997400</td>\n",
       "    </tr>\n",
       "    <tr>\n",
       "      <th>2021-03-25</th>\n",
       "      <td>51.700001</td>\n",
       "      <td>52.060001</td>\n",
       "      <td>51.169998</td>\n",
       "      <td>52.020000</td>\n",
       "      <td>52.020000</td>\n",
       "      <td>17091900</td>\n",
       "    </tr>\n",
       "    <tr>\n",
       "      <th>2021-03-26</th>\n",
       "      <td>52.139999</td>\n",
       "      <td>53.110001</td>\n",
       "      <td>51.759998</td>\n",
       "      <td>53.040001</td>\n",
       "      <td>53.040001</td>\n",
       "      <td>17125100</td>\n",
       "    </tr>\n",
       "    <tr>\n",
       "      <th>2021-03-29</th>\n",
       "      <td>52.730000</td>\n",
       "      <td>53.939999</td>\n",
       "      <td>52.709999</td>\n",
       "      <td>53.849998</td>\n",
       "      <td>53.849998</td>\n",
       "      <td>17514100</td>\n",
       "    </tr>\n",
       "    <tr>\n",
       "      <th>2021-03-30</th>\n",
       "      <td>53.750000</td>\n",
       "      <td>53.790001</td>\n",
       "      <td>52.930000</td>\n",
       "      <td>53.150002</td>\n",
       "      <td>53.150002</td>\n",
       "      <td>14871800</td>\n",
       "    </tr>\n",
       "  </tbody>\n",
       "</table>\n",
       "<p>565 rows × 6 columns</p>\n",
       "</div>"
      ],
      "text/plain": [
       "                 Open       High        Low      Close  Adj Close    Volume\n",
       "Date                                                                       \n",
       "2019-01-02  46.939999  47.220001  46.560001  46.930000  43.620419  11603700\n",
       "2019-01-03  46.820000  47.369999  46.529999  46.639999  43.350868  14714400\n",
       "2019-01-04  46.750000  47.570000  46.639999  47.570000  44.215286  13013700\n",
       "2019-01-07  47.570000  47.750000  46.900002  46.950001  43.639008  13135500\n",
       "2019-01-08  47.250000  47.570000  47.040001  47.480000  44.131630  15420700\n",
       "...               ...        ...        ...        ...        ...       ...\n",
       "2021-03-24  51.169998  51.889999  51.150002  51.520000  51.520000  14997400\n",
       "2021-03-25  51.700001  52.060001  51.169998  52.020000  52.020000  17091900\n",
       "2021-03-26  52.139999  53.110001  51.759998  53.040001  53.040001  17125100\n",
       "2021-03-29  52.730000  53.939999  52.709999  53.849998  53.849998  17514100\n",
       "2021-03-30  53.750000  53.790001  52.930000  53.150002  53.150002  14871800\n",
       "\n",
       "[565 rows x 6 columns]"
      ]
     },
     "execution_count": 4,
     "metadata": {},
     "output_type": "execute_result"
    }
   ],
   "source": [
    "# Display the entire frame\n",
    "coca_cola"
   ]
  },
  {
   "cell_type": "markdown",
   "metadata": {
    "id": "KQFR1c_C8kja"
   },
   "source": [
    "From the above output, you can see that:\n",
    "* The dataframe has 565 rows and 6 columns. \n",
    "* The date range for the available data is `2019-01-02` to `2021-03-30`. \n",
    "* The data for `Open`, `High`, `Low`, `Close`, `Adj Close`, and `Volume` is available under the respective columns.\n",
    "\n",
    "<a id='head-and-tail'></a>\n",
    "## Head and Tail of a Dataframe\n",
    "\n",
    "You can display the first few rows of the dataframe by using the `head()`. \n",
    "\n",
    "Syntax:\n",
    "```python\n",
    "DataFrame.head(n)\n",
    "```\n",
    "**n**: Number of rows. If not specified, it is 5.\n",
    "\n",
    "Similarly, you can display the last few rows of the dataframe by using the `tail()`. \n",
    "\n",
    "Syntax:\n",
    "```python\n",
    "DataFrame.tail(n)\n",
    "```\n",
    "**n**: Number of rows. If not specified, it is 5.\n",
    "\n",
    "Visualising the head or tail of the dataframe will give you an idea of what kind of data you are dealing with."
   ]
  },
  {
   "cell_type": "code",
   "execution_count": 5,
   "metadata": {
    "id": "ueT9iRiouyh0",
    "outputId": "48ae88d7-a706-41a2-e175-0f670d060b11"
   },
   "outputs": [
    {
     "data": {
      "text/html": [
       "<div>\n",
       "<style scoped>\n",
       "    .dataframe tbody tr th:only-of-type {\n",
       "        vertical-align: middle;\n",
       "    }\n",
       "\n",
       "    .dataframe tbody tr th {\n",
       "        vertical-align: top;\n",
       "    }\n",
       "\n",
       "    .dataframe thead th {\n",
       "        text-align: right;\n",
       "    }\n",
       "</style>\n",
       "<table border=\"1\" class=\"dataframe\">\n",
       "  <thead>\n",
       "    <tr style=\"text-align: right;\">\n",
       "      <th></th>\n",
       "      <th>Open</th>\n",
       "      <th>High</th>\n",
       "      <th>Low</th>\n",
       "      <th>Close</th>\n",
       "      <th>Adj Close</th>\n",
       "      <th>Volume</th>\n",
       "    </tr>\n",
       "    <tr>\n",
       "      <th>Date</th>\n",
       "      <th></th>\n",
       "      <th></th>\n",
       "      <th></th>\n",
       "      <th></th>\n",
       "      <th></th>\n",
       "      <th></th>\n",
       "    </tr>\n",
       "  </thead>\n",
       "  <tbody>\n",
       "    <tr>\n",
       "      <th>2019-01-02</th>\n",
       "      <td>46.939999</td>\n",
       "      <td>47.220001</td>\n",
       "      <td>46.560001</td>\n",
       "      <td>46.930000</td>\n",
       "      <td>43.620419</td>\n",
       "      <td>11603700</td>\n",
       "    </tr>\n",
       "    <tr>\n",
       "      <th>2019-01-03</th>\n",
       "      <td>46.820000</td>\n",
       "      <td>47.369999</td>\n",
       "      <td>46.529999</td>\n",
       "      <td>46.639999</td>\n",
       "      <td>43.350868</td>\n",
       "      <td>14714400</td>\n",
       "    </tr>\n",
       "    <tr>\n",
       "      <th>2019-01-04</th>\n",
       "      <td>46.750000</td>\n",
       "      <td>47.570000</td>\n",
       "      <td>46.639999</td>\n",
       "      <td>47.570000</td>\n",
       "      <td>44.215286</td>\n",
       "      <td>13013700</td>\n",
       "    </tr>\n",
       "    <tr>\n",
       "      <th>2019-01-07</th>\n",
       "      <td>47.570000</td>\n",
       "      <td>47.750000</td>\n",
       "      <td>46.900002</td>\n",
       "      <td>46.950001</td>\n",
       "      <td>43.639008</td>\n",
       "      <td>13135500</td>\n",
       "    </tr>\n",
       "    <tr>\n",
       "      <th>2019-01-08</th>\n",
       "      <td>47.250000</td>\n",
       "      <td>47.570000</td>\n",
       "      <td>47.040001</td>\n",
       "      <td>47.480000</td>\n",
       "      <td>44.131630</td>\n",
       "      <td>15420700</td>\n",
       "    </tr>\n",
       "  </tbody>\n",
       "</table>\n",
       "</div>"
      ],
      "text/plain": [
       "                 Open       High        Low      Close  Adj Close    Volume\n",
       "Date                                                                       \n",
       "2019-01-02  46.939999  47.220001  46.560001  46.930000  43.620419  11603700\n",
       "2019-01-03  46.820000  47.369999  46.529999  46.639999  43.350868  14714400\n",
       "2019-01-04  46.750000  47.570000  46.639999  47.570000  44.215286  13013700\n",
       "2019-01-07  47.570000  47.750000  46.900002  46.950001  43.639008  13135500\n",
       "2019-01-08  47.250000  47.570000  47.040001  47.480000  44.131630  15420700"
      ]
     },
     "execution_count": 5,
     "metadata": {},
     "output_type": "execute_result"
    }
   ],
   "source": [
    "# Display the head\n",
    "# You will see the top 5 rows\n",
    "coca_cola.head()"
   ]
  },
  {
   "cell_type": "code",
   "execution_count": 6,
   "metadata": {
    "id": "GYhKFNJ1uyh0",
    "outputId": "649f33fa-68b1-4300-a808-d6cf7838238c"
   },
   "outputs": [
    {
     "data": {
      "text/html": [
       "<div>\n",
       "<style scoped>\n",
       "    .dataframe tbody tr th:only-of-type {\n",
       "        vertical-align: middle;\n",
       "    }\n",
       "\n",
       "    .dataframe tbody tr th {\n",
       "        vertical-align: top;\n",
       "    }\n",
       "\n",
       "    .dataframe thead th {\n",
       "        text-align: right;\n",
       "    }\n",
       "</style>\n",
       "<table border=\"1\" class=\"dataframe\">\n",
       "  <thead>\n",
       "    <tr style=\"text-align: right;\">\n",
       "      <th></th>\n",
       "      <th>Open</th>\n",
       "      <th>High</th>\n",
       "      <th>Low</th>\n",
       "      <th>Close</th>\n",
       "      <th>Adj Close</th>\n",
       "      <th>Volume</th>\n",
       "    </tr>\n",
       "    <tr>\n",
       "      <th>Date</th>\n",
       "      <th></th>\n",
       "      <th></th>\n",
       "      <th></th>\n",
       "      <th></th>\n",
       "      <th></th>\n",
       "      <th></th>\n",
       "    </tr>\n",
       "  </thead>\n",
       "  <tbody>\n",
       "    <tr>\n",
       "      <th>2021-03-24</th>\n",
       "      <td>51.169998</td>\n",
       "      <td>51.889999</td>\n",
       "      <td>51.150002</td>\n",
       "      <td>51.520000</td>\n",
       "      <td>51.520000</td>\n",
       "      <td>14997400</td>\n",
       "    </tr>\n",
       "    <tr>\n",
       "      <th>2021-03-25</th>\n",
       "      <td>51.700001</td>\n",
       "      <td>52.060001</td>\n",
       "      <td>51.169998</td>\n",
       "      <td>52.020000</td>\n",
       "      <td>52.020000</td>\n",
       "      <td>17091900</td>\n",
       "    </tr>\n",
       "    <tr>\n",
       "      <th>2021-03-26</th>\n",
       "      <td>52.139999</td>\n",
       "      <td>53.110001</td>\n",
       "      <td>51.759998</td>\n",
       "      <td>53.040001</td>\n",
       "      <td>53.040001</td>\n",
       "      <td>17125100</td>\n",
       "    </tr>\n",
       "    <tr>\n",
       "      <th>2021-03-29</th>\n",
       "      <td>52.730000</td>\n",
       "      <td>53.939999</td>\n",
       "      <td>52.709999</td>\n",
       "      <td>53.849998</td>\n",
       "      <td>53.849998</td>\n",
       "      <td>17514100</td>\n",
       "    </tr>\n",
       "    <tr>\n",
       "      <th>2021-03-30</th>\n",
       "      <td>53.750000</td>\n",
       "      <td>53.790001</td>\n",
       "      <td>52.930000</td>\n",
       "      <td>53.150002</td>\n",
       "      <td>53.150002</td>\n",
       "      <td>14871800</td>\n",
       "    </tr>\n",
       "  </tbody>\n",
       "</table>\n",
       "</div>"
      ],
      "text/plain": [
       "                 Open       High        Low      Close  Adj Close    Volume\n",
       "Date                                                                       \n",
       "2021-03-24  51.169998  51.889999  51.150002  51.520000  51.520000  14997400\n",
       "2021-03-25  51.700001  52.060001  51.169998  52.020000  52.020000  17091900\n",
       "2021-03-26  52.139999  53.110001  51.759998  53.040001  53.040001  17125100\n",
       "2021-03-29  52.730000  53.939999  52.709999  53.849998  53.849998  17514100\n",
       "2021-03-30  53.750000  53.790001  52.930000  53.150002  53.150002  14871800"
      ]
     },
     "execution_count": 6,
     "metadata": {},
     "output_type": "execute_result"
    }
   ],
   "source": [
    "# Display the tail\n",
    "# You will see the bottom 5 rows\n",
    "coca_cola.tail()"
   ]
  },
  {
   "cell_type": "markdown",
   "metadata": {
    "id": "chq5P1PF8kjc"
   },
   "source": [
    "Let's now see how can you access the elements of the dataframe.\n",
    "\n",
    "<a id='accessing-elements'></a> \n",
    "## Access Elements of a Dataframe\n",
    "\n",
    "<a id='loc'></a> \n",
    "### loc\n",
    "\n",
    "Remember the dataframe `my_portfolio_frame`. "
   ]
  },
  {
   "cell_type": "code",
   "execution_count": 7,
   "metadata": {
    "id": "7JbTssEpdvvV",
    "outputId": "09ba75ca-545d-4252-cd32-6157be6ac6e9"
   },
   "outputs": [
    {
     "data": {
      "text/html": [
       "<div>\n",
       "<style scoped>\n",
       "    .dataframe tbody tr th:only-of-type {\n",
       "        vertical-align: middle;\n",
       "    }\n",
       "\n",
       "    .dataframe tbody tr th {\n",
       "        vertical-align: top;\n",
       "    }\n",
       "\n",
       "    .dataframe thead th {\n",
       "        text-align: right;\n",
       "    }\n",
       "</style>\n",
       "<table border=\"1\" class=\"dataframe\">\n",
       "  <thead>\n",
       "    <tr style=\"text-align: right;\">\n",
       "      <th></th>\n",
       "      <th>quantity_owned</th>\n",
       "      <th>average_buy_price</th>\n",
       "    </tr>\n",
       "    <tr>\n",
       "      <th>stock_name</th>\n",
       "      <th></th>\n",
       "      <th></th>\n",
       "    </tr>\n",
       "  </thead>\n",
       "  <tbody>\n",
       "    <tr>\n",
       "      <th>Coca Cola</th>\n",
       "      <td>1564</td>\n",
       "      <td>950</td>\n",
       "    </tr>\n",
       "    <tr>\n",
       "      <th>Facebook</th>\n",
       "      <td>6546</td>\n",
       "      <td>160</td>\n",
       "    </tr>\n",
       "    <tr>\n",
       "      <th>Apple</th>\n",
       "      <td>5464</td>\n",
       "      <td>120</td>\n",
       "    </tr>\n",
       "    <tr>\n",
       "      <th>Tesla</th>\n",
       "      <td>6513</td>\n",
       "      <td>270</td>\n",
       "    </tr>\n",
       "    <tr>\n",
       "      <th>Infosys</th>\n",
       "      <td>4155</td>\n",
       "      <td>15</td>\n",
       "    </tr>\n",
       "  </tbody>\n",
       "</table>\n",
       "</div>"
      ],
      "text/plain": [
       "            quantity_owned  average_buy_price\n",
       "stock_name                                   \n",
       "Coca Cola             1564                950\n",
       "Facebook              6546                160\n",
       "Apple                 5464                120\n",
       "Tesla                 6513                270\n",
       "Infosys               4155                 15"
      ]
     },
     "execution_count": 7,
     "metadata": {},
     "output_type": "execute_result"
    }
   ],
   "source": [
    "my_portfolio_frame"
   ]
  },
  {
   "cell_type": "markdown",
   "metadata": {
    "id": "eMBrsHVbdvvW"
   },
   "source": [
    "You want only to see the row with the values for Coca Cola. The index of the row is `Coca Cola`. You can access the row of the dataframe using `loc`. \n",
    "\n",
    "Syntax:\n",
    "```python\n",
    "DataFrame.loc[index]\n",
    "```"
   ]
  },
  {
   "cell_type": "code",
   "execution_count": 8,
   "metadata": {
    "id": "xpfyYvaM8kjd",
    "outputId": "46a29876-75ed-4b72-ea18-42e6dadbde43"
   },
   "outputs": [
    {
     "data": {
      "text/plain": [
       "quantity_owned       1564\n",
       "average_buy_price     950\n",
       "Name: Coca Cola, dtype: int64"
      ]
     },
     "execution_count": 8,
     "metadata": {},
     "output_type": "execute_result"
    }
   ],
   "source": [
    "# Display the Coca Cola row\n",
    "my_portfolio_frame.loc['Coca Cola']"
   ]
  },
  {
   "cell_type": "markdown",
   "metadata": {
    "id": "FAQCO1vm8kje"
   },
   "source": [
    "`loc` can also be used to access multiple rows. Let's see the data for all the stocks from Coca Cola to Apple.\n",
    "\n",
    "Syntax:\n",
    "```python\n",
    "DataFrame.loc[start index: end index]\n",
    "```\n",
    "1. **start index**: Index of the first row where you want to start.\n",
    "2. **stop index**: Index of the last row where you want to stop.\n",
    "\n",
    "Both, start index and stop index are included in the range."
   ]
  },
  {
   "cell_type": "code",
   "execution_count": 9,
   "metadata": {
    "id": "uv8RaEYi8kje",
    "outputId": "a18f77cf-e1e1-47b0-aa63-b364d8026042"
   },
   "outputs": [
    {
     "data": {
      "text/html": [
       "<div>\n",
       "<style scoped>\n",
       "    .dataframe tbody tr th:only-of-type {\n",
       "        vertical-align: middle;\n",
       "    }\n",
       "\n",
       "    .dataframe tbody tr th {\n",
       "        vertical-align: top;\n",
       "    }\n",
       "\n",
       "    .dataframe thead th {\n",
       "        text-align: right;\n",
       "    }\n",
       "</style>\n",
       "<table border=\"1\" class=\"dataframe\">\n",
       "  <thead>\n",
       "    <tr style=\"text-align: right;\">\n",
       "      <th></th>\n",
       "      <th>quantity_owned</th>\n",
       "      <th>average_buy_price</th>\n",
       "    </tr>\n",
       "    <tr>\n",
       "      <th>stock_name</th>\n",
       "      <th></th>\n",
       "      <th></th>\n",
       "    </tr>\n",
       "  </thead>\n",
       "  <tbody>\n",
       "    <tr>\n",
       "      <th>Coca Cola</th>\n",
       "      <td>1564</td>\n",
       "      <td>950</td>\n",
       "    </tr>\n",
       "    <tr>\n",
       "      <th>Facebook</th>\n",
       "      <td>6546</td>\n",
       "      <td>160</td>\n",
       "    </tr>\n",
       "    <tr>\n",
       "      <th>Apple</th>\n",
       "      <td>5464</td>\n",
       "      <td>120</td>\n",
       "    </tr>\n",
       "  </tbody>\n",
       "</table>\n",
       "</div>"
      ],
      "text/plain": [
       "            quantity_owned  average_buy_price\n",
       "stock_name                                   \n",
       "Coca Cola             1564                950\n",
       "Facebook              6546                160\n",
       "Apple                 5464                120"
      ]
     },
     "execution_count": 9,
     "metadata": {},
     "output_type": "execute_result"
    }
   ],
   "source": [
    "# Display rows from Coca Cola to Apple\n",
    "my_portfolio_frame.loc['Coca Cola':'Apple']"
   ]
  },
  {
   "cell_type": "markdown",
   "metadata": {
    "id": "7aVv0ciu8kjf"
   },
   "source": [
    "<a id='iloc'></a> \n",
    "### iloc\n",
    "\n",
    "You can also access the row of a dataframe by its position (row number). This can be done using `iloc`.\n",
    "Syntax:\n",
    "```python\n",
    "DataFrame.iloc[index]\n",
    "```\n",
    "\n",
    "Let's continue with the same example. You want to see the details of Coca Cola. It is the first row of the dataframe. Hence the index will be zero. (**Note:** Index always begins with 0.)"
   ]
  },
  {
   "cell_type": "code",
   "execution_count": 10,
   "metadata": {
    "id": "hYZ9e1n48kjf",
    "outputId": "98e6dd9b-d2b4-4008-c765-1ace2915757a"
   },
   "outputs": [
    {
     "data": {
      "text/plain": [
       "quantity_owned       1564\n",
       "average_buy_price     950\n",
       "Name: Coca Cola, dtype: int64"
      ]
     },
     "execution_count": 10,
     "metadata": {},
     "output_type": "execute_result"
    }
   ],
   "source": [
    "# Display first row\n",
    "my_portfolio_frame.iloc[0]"
   ]
  },
  {
   "cell_type": "markdown",
   "metadata": {
    "id": "lHuPMfDr8kjf"
   },
   "source": [
    "Like `loc`, `iloc` can also be used to access multiple rows. But there is one difference. The end index is not included in the range.\n",
    "\n",
    "Syntax:\n",
    "```python\n",
    "DataFrame.iloc[start index: end index]\n",
    "```\n",
    "1. **start index**: Index of the first row where you want to start. The element at this index is included.\n",
    "2. **stop index**: Index of the last row where you want to stop. The element at this index is not included.\n"
   ]
  },
  {
   "cell_type": "code",
   "execution_count": 11,
   "metadata": {
    "id": "9_Z34q7O8kjg",
    "outputId": "bd4a9aac-5a65-4d93-d506-4c117185a176"
   },
   "outputs": [
    {
     "data": {
      "text/html": [
       "<div>\n",
       "<style scoped>\n",
       "    .dataframe tbody tr th:only-of-type {\n",
       "        vertical-align: middle;\n",
       "    }\n",
       "\n",
       "    .dataframe tbody tr th {\n",
       "        vertical-align: top;\n",
       "    }\n",
       "\n",
       "    .dataframe thead th {\n",
       "        text-align: right;\n",
       "    }\n",
       "</style>\n",
       "<table border=\"1\" class=\"dataframe\">\n",
       "  <thead>\n",
       "    <tr style=\"text-align: right;\">\n",
       "      <th></th>\n",
       "      <th>quantity_owned</th>\n",
       "      <th>average_buy_price</th>\n",
       "    </tr>\n",
       "    <tr>\n",
       "      <th>stock_name</th>\n",
       "      <th></th>\n",
       "      <th></th>\n",
       "    </tr>\n",
       "  </thead>\n",
       "  <tbody>\n",
       "    <tr>\n",
       "      <th>Coca Cola</th>\n",
       "      <td>1564</td>\n",
       "      <td>950</td>\n",
       "    </tr>\n",
       "    <tr>\n",
       "      <th>Facebook</th>\n",
       "      <td>6546</td>\n",
       "      <td>160</td>\n",
       "    </tr>\n",
       "    <tr>\n",
       "      <th>Apple</th>\n",
       "      <td>5464</td>\n",
       "      <td>120</td>\n",
       "    </tr>\n",
       "  </tbody>\n",
       "</table>\n",
       "</div>"
      ],
      "text/plain": [
       "            quantity_owned  average_buy_price\n",
       "stock_name                                   \n",
       "Coca Cola             1564                950\n",
       "Facebook              6546                160\n",
       "Apple                 5464                120"
      ]
     },
     "execution_count": 11,
     "metadata": {},
     "output_type": "execute_result"
    }
   ],
   "source": [
    "# Display rows from index 0 to 2\n",
    "my_portfolio_frame.iloc[0:3]"
   ]
  },
  {
   "cell_type": "markdown",
   "metadata": {
    "id": "7FYtNbfF8kjg"
   },
   "source": [
    "<a id='boolean'></a> \n",
    "### Boolean Indexing\n",
    "\n",
    "Let's suppose you want to see the stocks for which `quantity_owned` is greater than 5000. How will you do this?\n",
    "\n",
    "In simple English, you want to filter the dataframe in such a way that `quantity_owned > 5000` is always true. In the previous notebook, you learnt about booleans. Booleans are either `True` or `False`. You can filter your dataframe by indexing it with boolean values. \n",
    "\n",
    "Syntax:\n",
    "```python\n",
    "DataFrame[boolean filter]\n",
    "```\n",
    "**boolean filter:** It is the condition that will always hold true."
   ]
  },
  {
   "cell_type": "code",
   "execution_count": 12,
   "metadata": {
    "id": "TEs8dARt8kjg",
    "outputId": "bbfa9b4d-a910-4380-9c8b-e0245b81b08b"
   },
   "outputs": [
    {
     "data": {
      "text/html": [
       "<div>\n",
       "<style scoped>\n",
       "    .dataframe tbody tr th:only-of-type {\n",
       "        vertical-align: middle;\n",
       "    }\n",
       "\n",
       "    .dataframe tbody tr th {\n",
       "        vertical-align: top;\n",
       "    }\n",
       "\n",
       "    .dataframe thead th {\n",
       "        text-align: right;\n",
       "    }\n",
       "</style>\n",
       "<table border=\"1\" class=\"dataframe\">\n",
       "  <thead>\n",
       "    <tr style=\"text-align: right;\">\n",
       "      <th></th>\n",
       "      <th>quantity_owned</th>\n",
       "      <th>average_buy_price</th>\n",
       "    </tr>\n",
       "    <tr>\n",
       "      <th>stock_name</th>\n",
       "      <th></th>\n",
       "      <th></th>\n",
       "    </tr>\n",
       "  </thead>\n",
       "  <tbody>\n",
       "    <tr>\n",
       "      <th>Facebook</th>\n",
       "      <td>6546</td>\n",
       "      <td>160</td>\n",
       "    </tr>\n",
       "    <tr>\n",
       "      <th>Apple</th>\n",
       "      <td>5464</td>\n",
       "      <td>120</td>\n",
       "    </tr>\n",
       "    <tr>\n",
       "      <th>Tesla</th>\n",
       "      <td>6513</td>\n",
       "      <td>270</td>\n",
       "    </tr>\n",
       "  </tbody>\n",
       "</table>\n",
       "</div>"
      ],
      "text/plain": [
       "            quantity_owned  average_buy_price\n",
       "stock_name                                   \n",
       "Facebook              6546                160\n",
       "Apple                 5464                120\n",
       "Tesla                 6513                270"
      ]
     },
     "execution_count": 12,
     "metadata": {},
     "output_type": "execute_result"
    }
   ],
   "source": [
    "# Create a filter such that 'quantity_owned' is greater than 5000\n",
    "my_portfolio_frame[my_portfolio_frame.quantity_owned > 5000]"
   ]
  },
  {
   "cell_type": "markdown",
   "metadata": {
    "id": "pEAIi0_Q8kjh"
   },
   "source": [
    "<a id='access-column'></a> \n",
    "## Access a Column in a Dataframe\n",
    "\n",
    "You can access the column(s) of the dataframe by their name. Look at the example below."
   ]
  },
  {
   "cell_type": "code",
   "execution_count": 13,
   "metadata": {
    "id": "yyOeV-Rg8kjh",
    "outputId": "40bf68b6-951a-4247-f58d-09da268f16fc"
   },
   "outputs": [
    {
     "data": {
      "text/html": [
       "<div>\n",
       "<style scoped>\n",
       "    .dataframe tbody tr th:only-of-type {\n",
       "        vertical-align: middle;\n",
       "    }\n",
       "\n",
       "    .dataframe tbody tr th {\n",
       "        vertical-align: top;\n",
       "    }\n",
       "\n",
       "    .dataframe thead th {\n",
       "        text-align: right;\n",
       "    }\n",
       "</style>\n",
       "<table border=\"1\" class=\"dataframe\">\n",
       "  <thead>\n",
       "    <tr style=\"text-align: right;\">\n",
       "      <th></th>\n",
       "      <th>quantity_owned</th>\n",
       "    </tr>\n",
       "    <tr>\n",
       "      <th>stock_name</th>\n",
       "      <th></th>\n",
       "    </tr>\n",
       "  </thead>\n",
       "  <tbody>\n",
       "    <tr>\n",
       "      <th>Coca Cola</th>\n",
       "      <td>1564</td>\n",
       "    </tr>\n",
       "    <tr>\n",
       "      <th>Facebook</th>\n",
       "      <td>6546</td>\n",
       "    </tr>\n",
       "    <tr>\n",
       "      <th>Apple</th>\n",
       "      <td>5464</td>\n",
       "    </tr>\n",
       "    <tr>\n",
       "      <th>Tesla</th>\n",
       "      <td>6513</td>\n",
       "    </tr>\n",
       "    <tr>\n",
       "      <th>Infosys</th>\n",
       "      <td>4155</td>\n",
       "    </tr>\n",
       "  </tbody>\n",
       "</table>\n",
       "</div>"
      ],
      "text/plain": [
       "            quantity_owned\n",
       "stock_name                \n",
       "Coca Cola             1564\n",
       "Facebook              6546\n",
       "Apple                 5464\n",
       "Tesla                 6513\n",
       "Infosys               4155"
      ]
     },
     "execution_count": 13,
     "metadata": {},
     "output_type": "execute_result"
    }
   ],
   "source": [
    "# Column name is passed within quotes within square brackets\n",
    "my_portfolio_frame[[\"quantity_owned\"]].head()"
   ]
  },
  {
   "cell_type": "markdown",
   "metadata": {
    "id": "wVVDxRN58kjh"
   },
   "source": [
    "Let us access the quantity owned for Coca Cola."
   ]
  },
  {
   "cell_type": "code",
   "execution_count": 14,
   "metadata": {
    "id": "4IWkxRka8kji",
    "outputId": "05e7e4c5-1ef0-43ae-8a6c-ee0477fbcd04"
   },
   "outputs": [
    {
     "data": {
      "text/plain": [
       "1564"
      ]
     },
     "execution_count": 14,
     "metadata": {},
     "output_type": "execute_result"
    }
   ],
   "source": [
    "# Quantity owned for Coca Cola\n",
    "my_portfolio_frame.loc['Coca Cola', \"quantity_owned\"]"
   ]
  },
  {
   "cell_type": "markdown",
   "metadata": {
    "id": "UuQgyEvwdvvj"
   },
   "source": [
    "**Can you guess how will you access the quantity owned for all the assets from Coca Cola to Apple?**"
   ]
  },
  {
   "cell_type": "code",
   "execution_count": 15,
   "metadata": {
    "id": "yRqExiCpdvvj",
    "outputId": "a9614f56-5f23-4abd-a43a-a7b9d98c25bb"
   },
   "outputs": [
    {
     "data": {
      "text/html": [
       "<div>\n",
       "<style scoped>\n",
       "    .dataframe tbody tr th:only-of-type {\n",
       "        vertical-align: middle;\n",
       "    }\n",
       "\n",
       "    .dataframe tbody tr th {\n",
       "        vertical-align: top;\n",
       "    }\n",
       "\n",
       "    .dataframe thead th {\n",
       "        text-align: right;\n",
       "    }\n",
       "</style>\n",
       "<table border=\"1\" class=\"dataframe\">\n",
       "  <thead>\n",
       "    <tr style=\"text-align: right;\">\n",
       "      <th></th>\n",
       "      <th>quantity_owned</th>\n",
       "    </tr>\n",
       "    <tr>\n",
       "      <th>stock_name</th>\n",
       "      <th></th>\n",
       "    </tr>\n",
       "  </thead>\n",
       "  <tbody>\n",
       "    <tr>\n",
       "      <th>Coca Cola</th>\n",
       "      <td>1564</td>\n",
       "    </tr>\n",
       "    <tr>\n",
       "      <th>Facebook</th>\n",
       "      <td>6546</td>\n",
       "    </tr>\n",
       "    <tr>\n",
       "      <th>Apple</th>\n",
       "      <td>5464</td>\n",
       "    </tr>\n",
       "  </tbody>\n",
       "</table>\n",
       "</div>"
      ],
      "text/plain": [
       "            quantity_owned\n",
       "stock_name                \n",
       "Coca Cola             1564\n",
       "Facebook              6546\n",
       "Apple                 5464"
      ]
     },
     "execution_count": 15,
     "metadata": {},
     "output_type": "execute_result"
    }
   ],
   "source": [
    "my_portfolio_frame.loc['Coca Cola' : 'Apple', [\"quantity_owned\"]]"
   ]
  },
  {
   "cell_type": "markdown",
   "metadata": {
    "id": "69i4j-Z08kjk"
   },
   "source": [
    "<a id='remove-rows-columns'></a> \n",
    "## Remove Rows & Columns from a Dataframe\n",
    "\n",
    "In the above Coca Cola stock data, it is not necessary that you need all the columns which are present in the .csv file. Hence, to make your dataframe more understandable, you may drop the columns that you do not need using drop function.<br>\n",
    "<br>\n",
    "Syntax for dropping rows:<br>\n",
    "<pre>DataFrame.drop(DataFrame.index[[x,y,z...]])</pre>\n",
    "where x,y,z are row index values.<br><br>\n",
    "Syntax for dropping columns:<br>\n",
    "<pre>DataFrame.drop(['Column_name'])</pre>\n"
   ]
  },
  {
   "cell_type": "code",
   "execution_count": 16,
   "metadata": {
    "id": "f7B7sAJIuyh2",
    "outputId": "b76b468b-51a1-4463-e678-d5b83d55cb62"
   },
   "outputs": [
    {
     "data": {
      "text/html": [
       "<div>\n",
       "<style scoped>\n",
       "    .dataframe tbody tr th:only-of-type {\n",
       "        vertical-align: middle;\n",
       "    }\n",
       "\n",
       "    .dataframe tbody tr th {\n",
       "        vertical-align: top;\n",
       "    }\n",
       "\n",
       "    .dataframe thead th {\n",
       "        text-align: right;\n",
       "    }\n",
       "</style>\n",
       "<table border=\"1\" class=\"dataframe\">\n",
       "  <thead>\n",
       "    <tr style=\"text-align: right;\">\n",
       "      <th></th>\n",
       "      <th>Open</th>\n",
       "      <th>High</th>\n",
       "      <th>Low</th>\n",
       "      <th>Close</th>\n",
       "      <th>Adj Close</th>\n",
       "      <th>Volume</th>\n",
       "    </tr>\n",
       "    <tr>\n",
       "      <th>Date</th>\n",
       "      <th></th>\n",
       "      <th></th>\n",
       "      <th></th>\n",
       "      <th></th>\n",
       "      <th></th>\n",
       "      <th></th>\n",
       "    </tr>\n",
       "  </thead>\n",
       "  <tbody>\n",
       "    <tr>\n",
       "      <th>2019-01-02</th>\n",
       "      <td>46.939999</td>\n",
       "      <td>47.220001</td>\n",
       "      <td>46.560001</td>\n",
       "      <td>46.930000</td>\n",
       "      <td>43.620419</td>\n",
       "      <td>11603700</td>\n",
       "    </tr>\n",
       "    <tr>\n",
       "      <th>2019-01-07</th>\n",
       "      <td>47.570000</td>\n",
       "      <td>47.750000</td>\n",
       "      <td>46.900002</td>\n",
       "      <td>46.950001</td>\n",
       "      <td>43.639008</td>\n",
       "      <td>13135500</td>\n",
       "    </tr>\n",
       "    <tr>\n",
       "      <th>2019-01-08</th>\n",
       "      <td>47.250000</td>\n",
       "      <td>47.570000</td>\n",
       "      <td>47.040001</td>\n",
       "      <td>47.480000</td>\n",
       "      <td>44.131630</td>\n",
       "      <td>15420700</td>\n",
       "    </tr>\n",
       "    <tr>\n",
       "      <th>2019-01-09</th>\n",
       "      <td>47.080002</td>\n",
       "      <td>47.279999</td>\n",
       "      <td>46.430000</td>\n",
       "      <td>46.570000</td>\n",
       "      <td>43.285809</td>\n",
       "      <td>18032500</td>\n",
       "    </tr>\n",
       "    <tr>\n",
       "      <th>2019-01-10</th>\n",
       "      <td>46.660000</td>\n",
       "      <td>47.090000</td>\n",
       "      <td>46.340000</td>\n",
       "      <td>47.070000</td>\n",
       "      <td>43.750546</td>\n",
       "      <td>15976600</td>\n",
       "    </tr>\n",
       "  </tbody>\n",
       "</table>\n",
       "</div>"
      ],
      "text/plain": [
       "                 Open       High        Low      Close  Adj Close    Volume\n",
       "Date                                                                       \n",
       "2019-01-02  46.939999  47.220001  46.560001  46.930000  43.620419  11603700\n",
       "2019-01-07  47.570000  47.750000  46.900002  46.950001  43.639008  13135500\n",
       "2019-01-08  47.250000  47.570000  47.040001  47.480000  44.131630  15420700\n",
       "2019-01-09  47.080002  47.279999  46.430000  46.570000  43.285809  18032500\n",
       "2019-01-10  46.660000  47.090000  46.340000  47.070000  43.750546  15976600"
      ]
     },
     "execution_count": 16,
     "metadata": {},
     "output_type": "execute_result"
    }
   ],
   "source": [
    "# Dropping rows: 2019-01-04, 2019-01-05\n",
    "# 2019-01-04 is at index 1 and 2019-01-05 is at index 2\n",
    "coca_cola.drop(coca_cola.index[[1, 2]]).head()"
   ]
  },
  {
   "cell_type": "code",
   "execution_count": 17,
   "metadata": {
    "id": "a-GxAN098kjl",
    "outputId": "23719931-4325-443b-d3f6-a77edebe3475"
   },
   "outputs": [
    {
     "data": {
      "text/html": [
       "<div>\n",
       "<style scoped>\n",
       "    .dataframe tbody tr th:only-of-type {\n",
       "        vertical-align: middle;\n",
       "    }\n",
       "\n",
       "    .dataframe tbody tr th {\n",
       "        vertical-align: top;\n",
       "    }\n",
       "\n",
       "    .dataframe thead th {\n",
       "        text-align: right;\n",
       "    }\n",
       "</style>\n",
       "<table border=\"1\" class=\"dataframe\">\n",
       "  <thead>\n",
       "    <tr style=\"text-align: right;\">\n",
       "      <th></th>\n",
       "      <th>Open</th>\n",
       "      <th>Close</th>\n",
       "      <th>Adj Close</th>\n",
       "      <th>Volume</th>\n",
       "    </tr>\n",
       "    <tr>\n",
       "      <th>Date</th>\n",
       "      <th></th>\n",
       "      <th></th>\n",
       "      <th></th>\n",
       "      <th></th>\n",
       "    </tr>\n",
       "  </thead>\n",
       "  <tbody>\n",
       "    <tr>\n",
       "      <th>2019-01-02</th>\n",
       "      <td>46.939999</td>\n",
       "      <td>46.930000</td>\n",
       "      <td>43.620419</td>\n",
       "      <td>11603700</td>\n",
       "    </tr>\n",
       "    <tr>\n",
       "      <th>2019-01-03</th>\n",
       "      <td>46.820000</td>\n",
       "      <td>46.639999</td>\n",
       "      <td>43.350868</td>\n",
       "      <td>14714400</td>\n",
       "    </tr>\n",
       "    <tr>\n",
       "      <th>2019-01-04</th>\n",
       "      <td>46.750000</td>\n",
       "      <td>47.570000</td>\n",
       "      <td>44.215286</td>\n",
       "      <td>13013700</td>\n",
       "    </tr>\n",
       "    <tr>\n",
       "      <th>2019-01-07</th>\n",
       "      <td>47.570000</td>\n",
       "      <td>46.950001</td>\n",
       "      <td>43.639008</td>\n",
       "      <td>13135500</td>\n",
       "    </tr>\n",
       "    <tr>\n",
       "      <th>2019-01-08</th>\n",
       "      <td>47.250000</td>\n",
       "      <td>47.480000</td>\n",
       "      <td>44.131630</td>\n",
       "      <td>15420700</td>\n",
       "    </tr>\n",
       "  </tbody>\n",
       "</table>\n",
       "</div>"
      ],
      "text/plain": [
       "                 Open      Close  Adj Close    Volume\n",
       "Date                                                 \n",
       "2019-01-02  46.939999  46.930000  43.620419  11603700\n",
       "2019-01-03  46.820000  46.639999  43.350868  14714400\n",
       "2019-01-04  46.750000  47.570000  44.215286  13013700\n",
       "2019-01-07  47.570000  46.950001  43.639008  13135500\n",
       "2019-01-08  47.250000  47.480000  44.131630  15420700"
      ]
     },
     "execution_count": 17,
     "metadata": {},
     "output_type": "execute_result"
    }
   ],
   "source": [
    "# Drop columns 'High' and 'Low'\n",
    "# axis=1 represents the column axis\n",
    "coca_cola = coca_cola.drop(['High', 'Low'], axis=1)\n",
    "coca_cola.head()"
   ]
  },
  {
   "cell_type": "markdown",
   "metadata": {
    "id": "T3PKK0CG8kjl"
   },
   "source": [
    "<a id='add-columns'></a> \n",
    "## Add Columns to a Dataframe\n",
    "\n",
    "There are multiple ways to add a new column to a dataframe. Let's look at one of the simplest ways. We will calculate the 10-period moving average and store it in a new column, `SMA`."
   ]
  },
  {
   "cell_type": "code",
   "execution_count": 18,
   "metadata": {
    "id": "vkc_KgTb8kjl",
    "outputId": "deacf5c9-3fc6-4e19-cf3a-246a9a25858b"
   },
   "outputs": [
    {
     "data": {
      "text/html": [
       "<div>\n",
       "<style scoped>\n",
       "    .dataframe tbody tr th:only-of-type {\n",
       "        vertical-align: middle;\n",
       "    }\n",
       "\n",
       "    .dataframe tbody tr th {\n",
       "        vertical-align: top;\n",
       "    }\n",
       "\n",
       "    .dataframe thead th {\n",
       "        text-align: right;\n",
       "    }\n",
       "</style>\n",
       "<table border=\"1\" class=\"dataframe\">\n",
       "  <thead>\n",
       "    <tr style=\"text-align: right;\">\n",
       "      <th></th>\n",
       "      <th>Open</th>\n",
       "      <th>Close</th>\n",
       "      <th>Adj Close</th>\n",
       "      <th>Volume</th>\n",
       "      <th>SMA</th>\n",
       "    </tr>\n",
       "    <tr>\n",
       "      <th>Date</th>\n",
       "      <th></th>\n",
       "      <th></th>\n",
       "      <th></th>\n",
       "      <th></th>\n",
       "      <th></th>\n",
       "    </tr>\n",
       "  </thead>\n",
       "  <tbody>\n",
       "    <tr>\n",
       "      <th>2021-03-24</th>\n",
       "      <td>51.169998</td>\n",
       "      <td>51.520000</td>\n",
       "      <td>51.520000</td>\n",
       "      <td>14997400</td>\n",
       "      <td>51.002</td>\n",
       "    </tr>\n",
       "    <tr>\n",
       "      <th>2021-03-25</th>\n",
       "      <td>51.700001</td>\n",
       "      <td>52.020000</td>\n",
       "      <td>52.020000</td>\n",
       "      <td>17091900</td>\n",
       "      <td>51.116</td>\n",
       "    </tr>\n",
       "    <tr>\n",
       "      <th>2021-03-26</th>\n",
       "      <td>52.139999</td>\n",
       "      <td>53.040001</td>\n",
       "      <td>53.040001</td>\n",
       "      <td>17125100</td>\n",
       "      <td>51.384</td>\n",
       "    </tr>\n",
       "    <tr>\n",
       "      <th>2021-03-29</th>\n",
       "      <td>52.730000</td>\n",
       "      <td>53.849998</td>\n",
       "      <td>53.849998</td>\n",
       "      <td>17514100</td>\n",
       "      <td>51.666</td>\n",
       "    </tr>\n",
       "    <tr>\n",
       "      <th>2021-03-30</th>\n",
       "      <td>53.750000</td>\n",
       "      <td>53.150002</td>\n",
       "      <td>53.150002</td>\n",
       "      <td>14871800</td>\n",
       "      <td>51.859</td>\n",
       "    </tr>\n",
       "  </tbody>\n",
       "</table>\n",
       "</div>"
      ],
      "text/plain": [
       "                 Open      Close  Adj Close    Volume     SMA\n",
       "Date                                                         \n",
       "2021-03-24  51.169998  51.520000  51.520000  14997400  51.002\n",
       "2021-03-25  51.700001  52.020000  52.020000  17091900  51.116\n",
       "2021-03-26  52.139999  53.040001  53.040001  17125100  51.384\n",
       "2021-03-29  52.730000  53.849998  53.849998  17514100  51.666\n",
       "2021-03-30  53.750000  53.150002  53.150002  14871800  51.859"
      ]
     },
     "execution_count": 18,
     "metadata": {},
     "output_type": "execute_result"
    }
   ],
   "source": [
    "# Add the 10-period simple moving average of the close price\n",
    "coca_cola['SMA'] = coca_cola['Close'].rolling(window=10).mean()\n",
    "coca_cola.tail()"
   ]
  },
  {
   "cell_type": "markdown",
   "metadata": {
    "id": "5enx_MFLx5w_"
   },
   "source": [
    "## Conclusion\n",
    "\n",
    "You have seen some basic functionality of dataframes here which is further used in the course. It has much more to offer. In the next notebook, you will learn to import data from different sources. <br><br>"
   ]
  }
 ],
 "metadata": {
  "anaconda-cloud": {},
  "colab": {
   "name": "DataFrame and Basic Functionality.ipynb",
   "provenance": []
  },
  "kernelspec": {
   "display_name": "Python 3 (ipykernel)",
   "language": "python",
   "name": "python3"
  },
  "language_info": {
   "codemirror_mode": {
    "name": "ipython",
    "version": 3
   },
   "file_extension": ".py",
   "mimetype": "text/x-python",
   "name": "python",
   "nbconvert_exporter": "python",
   "pygments_lexer": "ipython3",
   "version": "3.9.5"
  }
 },
 "nbformat": 4,
 "nbformat_minor": 1
}
