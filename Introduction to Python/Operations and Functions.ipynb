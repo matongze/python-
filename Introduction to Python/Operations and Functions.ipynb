{
 "cells": [
  {
   "cell_type": "markdown",
   "metadata": {
    "id": "PCC8VAR1vNIr"
   },
   "source": [
    "# Notebook Instructions\n",
    "\n",
    "1. All the <u>code and data files</u> used in this course are available in the downloadable unit of the <u>last section of this course</u>.\n",
    "2. You can run the notebook document sequentially (one cell at a time) by pressing **shift + enter**. \n",
    "3. While a cell is running, a [*] is shown on the left. After the cell is run, the output will appear on the next line.\n",
    "\n",
    "This course is based on specific versions of python packages. You can find the details of the packages in <a href='https://quantra.quantinsti.com/quantra-notebook' target=\"_blank\" >this manual</a>."
   ]
  },
  {
   "cell_type": "markdown",
   "metadata": {
    "id": "l837hFEHvNIz"
   },
   "source": [
    "## Operations and Functions in Python\n",
    "\n",
    "You can perform all kinds of operations in Python that you can think of. \n",
    "\n",
    "In this notebook, you will learn about the following:\n",
    "\n",
    "1. [Mathematical Operations](#mathematical-operations)\n",
    "2. [Logical Operations](#logical-operations)\n",
    "3. [Functions](#functions)\n",
    "\n",
    "<a id='mathematical-operations'></a> \n",
    "##  Mathematical Operations\n",
    "\n",
    "In the previous notebook, you have already seen how to perform basic mathematical operations such as addition and subtraction.\n",
    "\n",
    "You can also calculate the exponents using the `**` operator and remainder on division using the `%` operator."
   ]
  },
  {
   "cell_type": "code",
   "execution_count": 1,
   "metadata": {
    "colab": {
     "base_uri": "https://localhost:8080/"
    },
    "executionInfo": {
     "elapsed": 886,
     "status": "ok",
     "timestamp": 1619693793510,
     "user": {
      "displayName": "Satyapriya Chaudhari",
      "photoUrl": "https://lh3.googleusercontent.com/a-/AOh14GjQz6DVrrRmVg2uHHY4hcrgrL36TsLfvpvWmYer=s64",
      "userId": "12829952992438247302"
     },
     "user_tz": -330
    },
    "id": "C-mlg9rUQ1Q2",
    "outputId": "f9970e81-8012-4484-c547-611516225004"
   },
   "outputs": [
    {
     "name": "stdout",
     "output_type": "stream",
     "text": [
      "Performing Exponentiation:  9\n",
      "Performing Modulo:  3\n"
     ]
    }
   ],
   "source": [
    "# 3**2 will return 3 raised to the power 2\n",
    "print('Performing Exponentiation: ', 3**2)\n",
    "# 15 % 4 will return the remainder after dividing 15 by 4\n",
    "print('Performing Modulo: ', 15 % 4)"
   ]
  },
  {
   "cell_type": "markdown",
   "metadata": {
    "id": "vsHqXV6bQ1Q4"
   },
   "source": [
    "Python has a number of built-in math functions. You can import the math package to use these functions. Some of the most commonly used functions are:\n",
    "* **abs()** - Return the absolute value\n",
    "* **round()** - Round the number to a specified decimal points\n",
    "* **max()** - Return the maximum number in the collection\n",
    "* **min()** - Return the minimum number in the collection\n",
    "* **sum()** - Return the sum of all the numbers\n",
    "\n",
    "You can use the `import` keyword to import the `math` library. By importing a library, you can use all the codes, available in that library, in your program."
   ]
  },
  {
   "cell_type": "code",
   "execution_count": 2,
   "metadata": {
    "id": "urBxJE8PQ1Q5"
   },
   "outputs": [],
   "source": [
    "# Import math library\n",
    "import math"
   ]
  },
  {
   "cell_type": "markdown",
   "metadata": {
    "id": "lNvCEhN3Q1Q5"
   },
   "source": [
    "Python supports a long list of mathematical functions using the math package. You can read more about it [here](https://docs.python.org/3/library/math.html). You can now use all the functions in the math library."
   ]
  },
  {
   "cell_type": "code",
   "execution_count": 3,
   "metadata": {
    "colab": {
     "base_uri": "https://localhost:8080/"
    },
    "executionInfo": {
     "elapsed": 1173,
     "status": "ok",
     "timestamp": 1619693797188,
     "user": {
      "displayName": "Satyapriya Chaudhari",
      "photoUrl": "https://lh3.googleusercontent.com/a-/AOh14GjQz6DVrrRmVg2uHHY4hcrgrL36TsLfvpvWmYer=s64",
      "userId": "12829952992438247302"
     },
     "user_tz": -330
    },
    "id": "XvM449zbQ1Q6",
    "outputId": "b86acb2d-f345-41d5-ce4d-24667f9a9f63"
   },
   "outputs": [
    {
     "name": "stdout",
     "output_type": "stream",
     "text": [
      "Pi:  3.141592653589793\n",
      "Euler's Constant:  2.718281828459045\n",
      "Cosine of pi:  -1.0\n"
     ]
    }
   ],
   "source": [
    "print('Pi: ', math.pi)\n",
    "print(\"Euler's Constant: \", math.e)\n",
    "print('Cosine of pi: ', math.cos(math.pi))"
   ]
  },
  {
   "cell_type": "markdown",
   "metadata": {
    "id": "OtgxDrTFQ1Q6"
   },
   "source": [
    "<a id='logical-operations'></a> \n",
    "##  Logical Operations\n",
    "\n",
    "\n",
    "\n",
    "You can use comparison operators to perform logical operations in Python. These opeartors are:\n",
    "* `==` : equal \n",
    "* `!=` : not equal \n",
    "* `<` : less than \n",
    "* `>` : greater than \n",
    "* `<=` : less than or equal to\n",
    "* `>=` : greater than or equal to\n",
    "\n",
    "These operations return boolean values, either `True` or `False`."
   ]
  },
  {
   "cell_type": "code",
   "execution_count": 4,
   "metadata": {
    "colab": {
     "base_uri": "https://localhost:8080/"
    },
    "executionInfo": {
     "elapsed": 933,
     "status": "ok",
     "timestamp": 1619693797589,
     "user": {
      "displayName": "Satyapriya Chaudhari",
      "photoUrl": "https://lh3.googleusercontent.com/a-/AOh14GjQz6DVrrRmVg2uHHY4hcrgrL36TsLfvpvWmYer=s64",
      "userId": "12829952992438247302"
     },
     "user_tz": -330
    },
    "id": "GtezLzXqQ1Q7",
    "outputId": "c6f566fe-e9e3-458b-82b0-b13fd5c13f7a"
   },
   "outputs": [
    {
     "name": "stdout",
     "output_type": "stream",
     "text": [
      "True\n"
     ]
    }
   ],
   "source": [
    "print(5 == 5)"
   ]
  },
  {
   "cell_type": "code",
   "execution_count": 5,
   "metadata": {
    "colab": {
     "base_uri": "https://localhost:8080/"
    },
    "executionInfo": {
     "elapsed": 1335,
     "status": "ok",
     "timestamp": 1619693798292,
     "user": {
      "displayName": "Satyapriya Chaudhari",
      "photoUrl": "https://lh3.googleusercontent.com/a-/AOh14GjQz6DVrrRmVg2uHHY4hcrgrL36TsLfvpvWmYer=s64",
      "userId": "12829952992438247302"
     },
     "user_tz": -330
    },
    "id": "LbnxX9B-Q1Q7",
    "outputId": "8a7c6252-6c9c-4cff-81b6-ab7ef2ba4289"
   },
   "outputs": [
    {
     "name": "stdout",
     "output_type": "stream",
     "text": [
      "False\n"
     ]
    }
   ],
   "source": [
    "print(5 > 5)"
   ]
  },
  {
   "cell_type": "markdown",
   "metadata": {
    "id": "vMmkF3yTQ1Q8"
   },
   "source": [
    "These comparators also work in conjunction with variables."
   ]
  },
  {
   "cell_type": "code",
   "execution_count": 6,
   "metadata": {
    "colab": {
     "base_uri": "https://localhost:8080/"
    },
    "executionInfo": {
     "elapsed": 1628,
     "status": "ok",
     "timestamp": 1619693801051,
     "user": {
      "displayName": "Satyapriya Chaudhari",
      "photoUrl": "https://lh3.googleusercontent.com/a-/AOh14GjQz6DVrrRmVg2uHHY4hcrgrL36TsLfvpvWmYer=s64",
      "userId": "12829952992438247302"
     },
     "user_tz": -330
    },
    "id": "mWnBBU4IQ1Q8",
    "outputId": "ce1afab1-9cb5-4af6-e0ee-889e7db73327"
   },
   "outputs": [
    {
     "name": "stdout",
     "output_type": "stream",
     "text": [
      "True\n"
     ]
    }
   ],
   "source": [
    "m = 2\n",
    "n = 23\n",
    "print(m < n)"
   ]
  },
  {
   "cell_type": "markdown",
   "metadata": {
    "id": "fbrFckzUQ1Q8"
   },
   "source": [
    "The other logical operators supported by Python are:\n",
    "* `not`: This operator negates the result of the logical operation. If it is placed in front of a true statement, it would return false, and vice-versa.\n",
    "* `or`: This operator operates on two statements. If either of the statement (or both) is true, it returns true.\n",
    "* `and`: This operator also operates on two statements. Only when both the statements are true, it returns true. Else it returns false.\n",
    "\n",
    "Say that we have two logical statements, or assertions, $P$ and $Q$. The truth table for the basic logical operators is as follows:\n",
    "\n",
    "|P|Q|not P|P and Q|P or Q|\n",
    "|---|---|---|---|---|\n",
    "|True|True|False|True|True|\n",
    "|False|True|True|False|True|\n",
    "|True|False|False|False|True|\n",
    "|False|False|True|False|False|\n",
    "\n",
    "Let's look at some examples."
   ]
  },
  {
   "cell_type": "code",
   "execution_count": 7,
   "metadata": {
    "colab": {
     "base_uri": "https://localhost:8080/"
    },
    "executionInfo": {
     "elapsed": 921,
     "status": "ok",
     "timestamp": 1619693803373,
     "user": {
      "displayName": "Satyapriya Chaudhari",
      "photoUrl": "https://lh3.googleusercontent.com/a-/AOh14GjQz6DVrrRmVg2uHHY4hcrgrL36TsLfvpvWmYer=s64",
      "userId": "12829952992438247302"
     },
     "user_tz": -330
    },
    "id": "891T1tgbQ1Q9",
    "outputId": "a917e9e1-fa23-49a1-d01d-7e3c018d9932"
   },
   "outputs": [
    {
     "name": "stdout",
     "output_type": "stream",
     "text": [
      "True\n"
     ]
    }
   ],
   "source": [
    "print(not (4 < 2))"
   ]
  },
  {
   "cell_type": "code",
   "execution_count": 8,
   "metadata": {
    "colab": {
     "base_uri": "https://localhost:8080/"
    },
    "executionInfo": {
     "elapsed": 1378,
     "status": "ok",
     "timestamp": 1619693805697,
     "user": {
      "displayName": "Satyapriya Chaudhari",
      "photoUrl": "https://lh3.googleusercontent.com/a-/AOh14GjQz6DVrrRmVg2uHHY4hcrgrL36TsLfvpvWmYer=s64",
      "userId": "12829952992438247302"
     },
     "user_tz": -330
    },
    "id": "yxxUWUq1Q1Q9",
    "outputId": "0b377771-acfa-448c-fd74-1c518fac22f0"
   },
   "outputs": [
    {
     "name": "stdout",
     "output_type": "stream",
     "text": [
      "True\n"
     ]
    }
   ],
   "source": [
    "print((2 > 3) or (3 > 0))"
   ]
  },
  {
   "cell_type": "code",
   "execution_count": 9,
   "metadata": {
    "colab": {
     "base_uri": "https://localhost:8080/"
    },
    "executionInfo": {
     "elapsed": 1096,
     "status": "ok",
     "timestamp": 1619693809008,
     "user": {
      "displayName": "Satyapriya Chaudhari",
      "photoUrl": "https://lh3.googleusercontent.com/a-/AOh14GjQz6DVrrRmVg2uHHY4hcrgrL36TsLfvpvWmYer=s64",
      "userId": "12829952992438247302"
     },
     "user_tz": -330
    },
    "id": "ycBKR79tQ1Q-",
    "outputId": "513515b2-c387-4f3b-ce24-6f01dcac77e0"
   },
   "outputs": [
    {
     "name": "stdout",
     "output_type": "stream",
     "text": [
      "True\n"
     ]
    }
   ],
   "source": [
    "print((2 < 3) and (3 > 0))"
   ]
  },
  {
   "cell_type": "code",
   "execution_count": 10,
   "metadata": {
    "colab": {
     "base_uri": "https://localhost:8080/"
    },
    "executionInfo": {
     "elapsed": 1017,
     "status": "ok",
     "timestamp": 1619693811637,
     "user": {
      "displayName": "Satyapriya Chaudhari",
      "photoUrl": "https://lh3.googleusercontent.com/a-/AOh14GjQz6DVrrRmVg2uHHY4hcrgrL36TsLfvpvWmYer=s64",
      "userId": "12829952992438247302"
     },
     "user_tz": -330
    },
    "id": "FS3kj7M8Q1Q-",
    "outputId": "3bcbbec9-7893-47ea-f27a-0ecbaa4985fa"
   },
   "outputs": [
    {
     "name": "stdout",
     "output_type": "stream",
     "text": [
      "False\n"
     ]
    }
   ],
   "source": [
    "print((5 > 6) and not (4 < 2))"
   ]
  },
  {
   "cell_type": "code",
   "execution_count": 11,
   "metadata": {
    "colab": {
     "base_uri": "https://localhost:8080/"
    },
    "executionInfo": {
     "elapsed": 990,
     "status": "ok",
     "timestamp": 1619693812085,
     "user": {
      "displayName": "Satyapriya Chaudhari",
      "photoUrl": "https://lh3.googleusercontent.com/a-/AOh14GjQz6DVrrRmVg2uHHY4hcrgrL36TsLfvpvWmYer=s64",
      "userId": "12829952992438247302"
     },
     "user_tz": -330
    },
    "id": "aKQvIthUQ1Q-",
    "outputId": "34f327f8-e7c3-400f-8d20-cafba8492587"
   },
   "outputs": [
    {
     "name": "stdout",
     "output_type": "stream",
     "text": [
      "True\n"
     ]
    }
   ],
   "source": [
    "print(((2 < 3) and (3 > 0)) or ((5 > 6) and not (4 < 2)))"
   ]
  },
  {
   "cell_type": "markdown",
   "metadata": {
    "id": "nZVVqqOyQ1Q_"
   },
   "source": [
    "<a id='functions'></a> \n",
    "##  Functions\n",
    "\n",
    "Functions are a reusable block of code that can be called repeatedly to perform a set of defined calculations. It helps you write clean and modular code."
   ]
  },
  {
   "cell_type": "code",
   "execution_count": 12,
   "metadata": {
    "colab": {
     "base_uri": "https://localhost:8080/"
    },
    "executionInfo": {
     "elapsed": 1380,
     "status": "ok",
     "timestamp": 1619693814609,
     "user": {
      "displayName": "Satyapriya Chaudhari",
      "photoUrl": "https://lh3.googleusercontent.com/a-/AOh14GjQz6DVrrRmVg2uHHY4hcrgrL36TsLfvpvWmYer=s64",
      "userId": "12829952992438247302"
     },
     "user_tz": -330
    },
    "id": "4j9o8ODKQ1Q_",
    "outputId": "50f5a9a9-288c-41ff-cdb6-e29c71252357"
   },
   "outputs": [
    {
     "name": "stdout",
     "output_type": "stream",
     "text": [
      "Hello, world!\n"
     ]
    }
   ],
   "source": [
    "# Define a function\n",
    "def hello_world():\n",
    "    \"\"\" Prints Hello, world! \"\"\"\n",
    "    print('Hello, world!')\n",
    "\n",
    "\n",
    "# Call the function    \n",
    "hello_world()"
   ]
  },
  {
   "cell_type": "markdown",
   "metadata": {
    "id": "N3oZsOloQ1RA"
   },
   "source": [
    "You can call this `hello_world()` repeatedly to print the message multiple times."
   ]
  },
  {
   "cell_type": "code",
   "execution_count": 13,
   "metadata": {
    "colab": {
     "base_uri": "https://localhost:8080/"
    },
    "executionInfo": {
     "elapsed": 1706,
     "status": "ok",
     "timestamp": 1619693817373,
     "user": {
      "displayName": "Satyapriya Chaudhari",
      "photoUrl": "https://lh3.googleusercontent.com/a-/AOh14GjQz6DVrrRmVg2uHHY4hcrgrL36TsLfvpvWmYer=s64",
      "userId": "12829952992438247302"
     },
     "user_tz": -330
    },
    "id": "u5IK2_bpQ1RA",
    "outputId": "b2d118c2-7bf0-46f7-b8f4-3f742909f8d2"
   },
   "outputs": [
    {
     "name": "stdout",
     "output_type": "stream",
     "text": [
      "Hello, world!\n",
      "Hello, world!\n",
      "Hello, world!\n"
     ]
    }
   ],
   "source": [
    "# Call 1\n",
    "hello_world()\n",
    "# Call 2\n",
    "hello_world()\n",
    "# Call 3\n",
    "hello_world()"
   ]
  },
  {
   "cell_type": "markdown",
   "metadata": {
    "id": "70n42RlMQ1RA"
   },
   "source": [
    "Functions are defined with `def`, a function name, a list of parameters, and a colon. Everything indented below the colon will be included in the definition of the function.\n",
    "\n",
    "A variable created inside a function can be used only inside the function. This is called the scope of the variable. If you want to keep a value that a function calculates, you need to return the value. Let's look at an example."
   ]
  },
  {
   "cell_type": "code",
   "execution_count": 14,
   "metadata": {
    "colab": {
     "base_uri": "https://localhost:8080/",
     "height": 198
    },
    "executionInfo": {
     "elapsed": 913,
     "status": "error",
     "timestamp": 1619693819632,
     "user": {
      "displayName": "Satyapriya Chaudhari",
      "photoUrl": "https://lh3.googleusercontent.com/a-/AOh14GjQz6DVrrRmVg2uHHY4hcrgrL36TsLfvpvWmYer=s64",
      "userId": "12829952992438247302"
     },
     "user_tz": -330
    },
    "id": "0sX_yifZQ1RA",
    "outputId": "4b125bb9-c96a-4518-f5ab-6b3767ba1b83"
   },
   "outputs": [
    {
     "ename": "NameError",
     "evalue": "name 'in_function_string' is not defined",
     "output_type": "error",
     "traceback": [
      "\u001b[0;31m---------------------------------------------------------------------------\u001b[0m",
      "\u001b[0;31mNameError\u001b[0m                                 Traceback (most recent call last)",
      "\u001b[0;32m<ipython-input-14-fb168f245f67>\u001b[0m in \u001b[0;36m<module>\u001b[0;34m\u001b[0m\n\u001b[1;32m      3\u001b[0m \u001b[0;34m\u001b[0m\u001b[0m\n\u001b[1;32m      4\u001b[0m \u001b[0msee_the_scope\u001b[0m\u001b[0;34m(\u001b[0m\u001b[0;34m)\u001b[0m\u001b[0;34m\u001b[0m\u001b[0;34m\u001b[0m\u001b[0m\n\u001b[0;32m----> 5\u001b[0;31m \u001b[0mprint\u001b[0m\u001b[0;34m(\u001b[0m\u001b[0min_function_string\u001b[0m\u001b[0;34m)\u001b[0m\u001b[0;34m\u001b[0m\u001b[0;34m\u001b[0m\u001b[0m\n\u001b[0m",
      "\u001b[0;31mNameError\u001b[0m: name 'in_function_string' is not defined"
     ]
    }
   ],
   "source": [
    "def see_the_scope():\n",
    "    in_function_string = \"I'm stuck in here!\"\n",
    "\n",
    "see_the_scope()\n",
    "print(in_function_string)"
   ]
  },
  {
   "cell_type": "markdown",
   "metadata": {
    "id": "rkMPrUTYQ1RB"
   },
   "source": [
    "You can see the error above. How can you interpret the error? It points to the line which shows an error, line with the `print` statement. Why is this error? It says that the variable `in_function_string` is not defined. But you have defined it. So what happened? You called the variable `in_function_string` outside the function. Since the variable is defined inside function, it is not known outside the function. And you cannot access it. This is called the scope of the variable.\n",
    "\n",
    "The scope of a variable is the part of the code where that variable can be used. You can pass a variable to the `return` statement to be able to use its value outside the function. This value can then be stored in another variable with greater scope.\n",
    "\n",
    "In the example below, a return statement allows you to keep the string value defined in the function."
   ]
  },
  {
   "cell_type": "code",
   "execution_count": 15,
   "metadata": {
    "colab": {
     "base_uri": "https://localhost:8080/"
    },
    "executionInfo": {
     "elapsed": 599,
     "status": "ok",
     "timestamp": 1619693823131,
     "user": {
      "displayName": "Satyapriya Chaudhari",
      "photoUrl": "https://lh3.googleusercontent.com/a-/AOh14GjQz6DVrrRmVg2uHHY4hcrgrL36TsLfvpvWmYer=s64",
      "userId": "12829952992438247302"
     },
     "user_tz": -330
    },
    "id": "glnGJ4BXQ1RC",
    "outputId": "30205387-6565-41c4-c1ee-427731638a5c"
   },
   "outputs": [
    {
     "name": "stdout",
     "output_type": "stream",
     "text": [
      "You can use this outside the function!\n"
     ]
    }
   ],
   "source": [
    "def free_the_scope():\n",
    "    in_function_string = \"You can use this outside the function!\"\n",
    "    return in_function_string\n",
    "\n",
    "my_string = free_the_scope()\n",
    "print(my_string)"
   ]
  },
  {
   "cell_type": "markdown",
   "metadata": {
    "id": "3YFnxp4BQ1RC"
   },
   "source": [
    "Just like getting a value out of a function, you can also put values into a function. This is done by defining the function parameters."
   ]
  },
  {
   "cell_type": "code",
   "execution_count": 16,
   "metadata": {
    "colab": {
     "base_uri": "https://localhost:8080/"
    },
    "executionInfo": {
     "elapsed": 1572,
     "status": "ok",
     "timestamp": 1619693826312,
     "user": {
      "displayName": "Satyapriya Chaudhari",
      "photoUrl": "https://lh3.googleusercontent.com/a-/AOh14GjQz6DVrrRmVg2uHHY4hcrgrL36TsLfvpvWmYer=s64",
      "userId": "12829952992438247302"
     },
     "user_tz": -330
    },
    "id": "ID7wdUxBQ1RD",
    "outputId": "198a7b0d-01e4-4fd2-d5fc-11cfa4340a77"
   },
   "outputs": [
    {
     "name": "stdout",
     "output_type": "stream",
     "text": [
      "4 20\n",
      "10 50\n"
     ]
    }
   ],
   "source": [
    "def multiply_by_five(x):\n",
    "    \"\"\" Multiplies an input number by 5 \"\"\"\n",
    "    return x * 5\n",
    "\n",
    "n = 4\n",
    "print(n, multiply_by_five(n))\n",
    "\n",
    "m = 10\n",
    "print(m, multiply_by_five(m))"
   ]
  },
  {
   "cell_type": "markdown",
   "metadata": {
    "id": "Cke8o9JoQ1RD"
   },
   "source": [
    "In this example, we only had one parameter for our function, x. We can easily add more parameters, separating everything with a comma."
   ]
  },
  {
   "cell_type": "code",
   "execution_count": 17,
   "metadata": {
    "colab": {
     "base_uri": "https://localhost:8080/"
    },
    "executionInfo": {
     "elapsed": 849,
     "status": "ok",
     "timestamp": 1619693833578,
     "user": {
      "displayName": "Satyapriya Chaudhari",
      "photoUrl": "https://lh3.googleusercontent.com/a-/AOh14GjQz6DVrrRmVg2uHHY4hcrgrL36TsLfvpvWmYer=s64",
      "userId": "12829952992438247302"
     },
     "user_tz": -330
    },
    "id": "YUE22H0NQ1RD",
    "outputId": "ea388014-839b-44d0-df19-90fb9443b86b"
   },
   "outputs": [
    {
     "name": "stdout",
     "output_type": "stream",
     "text": [
      "x:  5\n",
      "y:  10\n",
      "Product:  50\n"
     ]
    }
   ],
   "source": [
    "def multiply_x_by_y(x, y):\n",
    "    \"\"\" Calculates the product of x and y \"\"\"\n",
    "    return x * y\n",
    "\n",
    "x = 5\n",
    "y = 10\n",
    "print('x: ', x)\n",
    "print('y: ', y)\n",
    "print('Product: ', multiply_x_by_y(x, y))"
   ]
  },
  {
   "cell_type": "markdown",
   "metadata": {
    "id": "7NI9eYYCvNJD"
   },
   "source": [
    "In the upcoming units, you will learn about a data structure, dataframe. <br><br>"
   ]
  }
 ],
 "metadata": {
  "anaconda-cloud": {},
  "colab": {
   "name": "Operations and Functions.ipynb",
   "provenance": []
  },
  "kernelspec": {
   "display_name": "Python 3 (ipykernel)",
   "language": "python",
   "name": "python3"
  },
  "language_info": {
   "codemirror_mode": {
    "name": "ipython",
    "version": 3
   },
   "file_extension": ".py",
   "mimetype": "text/x-python",
   "name": "python",
   "nbconvert_exporter": "python",
   "pygments_lexer": "ipython3",
   "version": "3.9.5"
  }
 },
 "nbformat": 4,
 "nbformat_minor": 1
}
