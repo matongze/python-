{
 "cells": [
  {
   "cell_type": "markdown",
   "id": "f1178c71-8e3a-45a0-8fac-4469c8789939",
   "metadata": {},
   "source": [
    "# Notebook Instructions\n",
    "\n",
    "1. If you are new to Jupyter notebooks, please go through this introductory manual <a href='https://quantra.quantinsti.com/quantra-notebook' target=\"_blank\">here</a>.\n",
    "1. Any changes made in this notebook would be lost after you close the browser window. **You can download the notebook to save your work on your PC.**\n",
    "1. Before running this notebook on your local PC:<br>\n",
    "i.  You need to set up a Python environment and the relevant packages on your local PC. To do so, go through the section on \"**Run Codes Locally on Your Machine**\" in the course.<br>\n",
    "ii. You need to **download the zip file available in the last unit** of this course. The zip file contains the data files and/or python modules that might be required to run this notebook."
   ]
  },
  {
   "cell_type": "markdown",
   "id": "a37133bc",
   "metadata": {},
   "source": [
    "## My First Jupyter Notebook\n",
    "\n",
    "Python uses a simple syntax which makes it very easy for someone learning to program for the first time. This notebook is comprehensively designed to help you get familiarised with the basics of Python.\n",
    "\n",
    "The following video will take you step by step through this notebook.\n",
    "\n",
    "**Tip:** If you're unable to see the video below, please run the below code cell again by using **\"Shift\"** + **\"Enter\"** keys.\n"
   ]
  },
  {
   "cell_type": "code",
   "execution_count": 2,
   "id": "e4ca75ba",
   "metadata": {},
   "outputs": [
    {
     "data": {
      "image/jpeg": "[encoded data removed]",
      "text/html": [
       "\n",
       "        <iframe\n",
       "            width=\"700\"\n",
       "            height=\"400\"\n",
       "            src=\"https://www.youtube.com/embed/3sLjXcpt7Cw?autoplay=0\"\n",
       "            frameborder=\"0\"\n",
       "            allowfullscreen\n",
       "            \n",
       "        ></iframe>\n",
       "        "
      ],
      "text/plain": [
       "<IPython.lib.display.YouTubeVideo at 0x19b292578e0>"
      ]
     },
     "execution_count": 2,
     "metadata": {},
     "output_type": "execute_result"
    }
   ],
   "source": [
    "from IPython.display import YouTubeVideo\n",
    "YouTubeVideo('3sLjXcpt7Cw', width=700, height=400, autoplay=0)"
   ]
  },
  {
   "cell_type": "markdown",
   "id": "c6da3b82",
   "metadata": {
    "id": "l837hFEHvNIz"
   },
   "source": [
    "\n",
    "In this notebook, you will learn about the following:\n",
    "\n",
    "1. [What is Programming?](#what-is-programming)\n",
    "2. [Introduction to Python Programming](#python-programming)\n",
    "3. [Code Comments](#code-comments)\n",
    "4. [Print Statement](#print)\n",
    "5. [Variables](#variables)\n",
    "6. [Indentation](#indentation)\n",
    "7. [Find Simple Returns](#returns)\n",
    "\n",
    "<a id='what-is-programming'></a> \n",
    "## What is Programming?\n",
    "\n",
    "Programming is the way of telling a machine what to do. This machine might be your computer, smartphone, or tablet. The task might be something as simple as noting down today’s date or capturing information about the Earth’s atmosphere on a satellite. Programming has a lot of alias names and they’re used interchangeably. It goes by programming, developing, or coding all of which involves creating software that gets a machine to do what you want it to do.\n",
    "\n",
    "<a id='python-programming'></a> \n",
    "## Introduction to Python Programming\n",
    "Python places more weight on coding productivity and code readability. Python makes use of simple syntax which looks like written English. Hence, the syntax is easy to remember. Python is a portable language. Python can be installed and run on any computer.\n",
    "\n",
    "Python coding is a lot of fun and is easy. Take this Python code for an example:"
   ]
  },
  {
   "cell_type": "code",
   "execution_count": 2,
   "id": "056c2363",
   "metadata": {
    "id": "xDxt4EJkvNI4",
    "outputId": "ee2d4494-e02e-4646-f04b-98f041281906"
   },
   "outputs": [
    {
     "name": "stdout",
     "output_type": "stream",
     "text": [
      "5555\n"
     ]
    }
   ],
   "source": [
    "x = 1234\n",
    "y = 4321\n",
    "sum = x + y\n",
    "print(sum)"
   ]
  },
  {
   "cell_type": "markdown",
   "id": "5a081830",
   "metadata": {},
   "source": [
    "Even without any coding background, you can easily make out that the code adds up two numbers and prints it. Press <b>Shift + Enter</b> to run the code cells.\n",
    "\n",
    "Find the sum of **976508** and **387459**."
   ]
  },
  {
   "cell_type": "code",
   "execution_count": null,
   "id": "7342cd34",
   "metadata": {},
   "outputs": [],
   "source": [
    "# Replace ____ (blank space) with the above two numbers in lines 2 & 3 respectively\n",
    "x = ____\n",
    "y = ____\n",
    "sum = x + y\n",
    "print(sum)"
   ]
  },
  {
   "cell_type": "markdown",
   "id": "f30c3f3f",
   "metadata": {
    "id": "A3x8ERd0vNI4"
   },
   "source": [
    "<a id='code-comments'></a> \n",
    "## Comment your code \n",
    "Comments are the notes made by a programmer in the program. It explains the code in simple English language, which makes the code readable/understandable. Comments are the non-executable part of the program and are ignored when the program is run. Thus comments are not only used for including an explanation in the program but it is also used to remove any part of the program that you do not want to execute.\n",
    "\n",
    "In Python, a comment is created using a hash (`#`) symbol.\n",
    "\n",
    "```python\n",
    "# Insert comment here\n",
    "```\n",
    "\n",
    "Including a `#` in a line of code will comment out everything that follows it."
   ]
  },
  {
   "cell_type": "code",
   "execution_count": 3,
   "id": "8a19146d",
   "metadata": {
    "id": "xIoBQz4bWVOP"
   },
   "outputs": [],
   "source": [
    "# This is a comment\n",
    "# It is used to add notes in a program\n",
    "# Anything following the first # is not executed while running the code"
   ]
  },
  {
   "cell_type": "markdown",
   "id": "85ac988f",
   "metadata": {
    "id": "ieZ_j-abWVOP"
   },
   "source": [
    "You can also use text enclosed in triple quotes as comments.\n",
    "\n",
    "```python\n",
    "\"\"\" This is also a comment.\n",
    "Anything enclosed within triple quotes is also not executed while running the code.\n",
    "\"\"\"\n",
    "```\n",
    "They are also called multi-line comments."
   ]
  },
  {
   "cell_type": "code",
   "execution_count": 4,
   "id": "0d416f45",
   "metadata": {
    "colab": {
     "base_uri": "https://localhost:8080/",
     "height": 35
    },
    "id": "NHXiKrvWWVOQ",
    "outputId": "1f868071-7062-4e83-d549-b8b5cb43f760"
   },
   "outputs": [
    {
     "data": {
      "text/plain": [
       "' This is first line of a multi-line comment.\\nThis is the second line of a multi-line comment. '"
      ]
     },
     "execution_count": 4,
     "metadata": {},
     "output_type": "execute_result"
    }
   ],
   "source": [
    "\"\"\" This is first line of a multi-line comment.\n",
    "This is the second line of a multi-line comment. \"\"\""
   ]
  },
  {
   "cell_type": "markdown",
   "id": "3720cc6f",
   "metadata": {},
   "source": [
    "You should read the comments within each code cell (whenever present). They will provide explanations of what is happening in the code."
   ]
  },
  {
   "cell_type": "code",
   "execution_count": 5,
   "id": "7cd7fc94",
   "metadata": {},
   "outputs": [],
   "source": [
    "# This was the previous price\n",
    "price_1 = 100\n",
    "\n",
    "# This is the current price\n",
    "price_2 = 105"
   ]
  },
  {
   "cell_type": "markdown",
   "id": "3ab813e0",
   "metadata": {
    "id": "JfFA8cx7WVOQ"
   },
   "source": [
    "<a id='print'></a> \n",
    "## Print Statement\n",
    "\n",
    "How would you make Python print \"Hello World\" for you? Well, it's never been this easy, just use the <b> print </b> command.\n",
    "\n",
    "Syntax: `print(\"Statement\")`"
   ]
  },
  {
   "cell_type": "code",
   "execution_count": 6,
   "id": "efbc7869",
   "metadata": {
    "id": "v_Oi4PtgvNI1",
    "outputId": "af2e4a6a-4096-4402-f15f-4f09193b5e75"
   },
   "outputs": [
    {
     "name": "stdout",
     "output_type": "stream",
     "text": [
      "Hello World!\n"
     ]
    }
   ],
   "source": [
    "print(\"Hello World!\")"
   ]
  },
  {
   "cell_type": "markdown",
   "id": "e24f90f1",
   "metadata": {
    "id": "p3sInuA-TR9Y"
   },
   "source": [
    "Try it for yourself to print your name."
   ]
  },
  {
   "cell_type": "code",
   "execution_count": null,
   "id": "4b95c4ed",
   "metadata": {
    "colab": {
     "base_uri": "https://localhost:8080/"
    },
    "id": "ccS-mcKxvNI3",
    "outputId": "6a442a69-2b3d-402e-edd3-1d31c1ea8e0f"
   },
   "outputs": [],
   "source": [
    "# Type your name by replacing the ____ (blank space) below\n",
    "print(\"My name is ____\")"
   ]
  },
  {
   "cell_type": "code",
   "execution_count": 7,
   "id": "154034dd",
   "metadata": {
    "scrolled": true
   },
   "outputs": [
    {
     "name": "stdout",
     "output_type": "stream",
     "text": [
      "I am new to Python programming!\n",
      "Python is cool!\n"
     ]
    }
   ],
   "source": [
    "# You may try other variations\n",
    "print(\"I am new to Python programming!\")\n",
    "print(\"Python is cool!\")\n",
    "\n",
    "# Add more print statements\n",
    "\n"
   ]
  },
  {
   "cell_type": "markdown",
   "id": "431052f2",
   "metadata": {
    "id": "90wj4JOqvNI5"
   },
   "source": [
    "<a id='variables'></a> \n",
    "## Variables\n",
    "\n",
    "Much like maths, variables in coding is also used to store values. These values can be repeatedly used in the code. In Python, a variable can store different data types.\n",
    "\n",
    "Did you notice the x and y in the earlier code while adding two numbers?"
   ]
  },
  {
   "cell_type": "code",
   "execution_count": 8,
   "id": "834ff067",
   "metadata": {
    "id": "q0mVZRPOvNI5"
   },
   "outputs": [],
   "source": [
    "x = 2\n",
    "y = 3"
   ]
  },
  {
   "cell_type": "markdown",
   "id": "b5898ef5",
   "metadata": {},
   "source": [
    "The x and y are variables that are storing numbers 2 and 3 respectively. You can think that we are giving names to 2 and 3.\n",
    "\n",
    "Store number **5** in variable **z**."
   ]
  },
  {
   "cell_type": "code",
   "execution_count": null,
   "id": "4a4679c1",
   "metadata": {},
   "outputs": [],
   "source": [
    "# Replace ____ (blank space) with 5 in the line below\n",
    "z = ____"
   ]
  },
  {
   "cell_type": "markdown",
   "id": "5340d25d",
   "metadata": {},
   "source": [
    "These variable names can be repeatedly used in the code. "
   ]
  },
  {
   "cell_type": "code",
   "execution_count": 9,
   "id": "603e6e7e",
   "metadata": {},
   "outputs": [],
   "source": [
    "Sum = x + y\n",
    "Difference = x - y\n",
    "Product = x * y\n",
    "Ratio = x / y"
   ]
  },
  {
   "cell_type": "markdown",
   "id": "675075d9",
   "metadata": {},
   "source": [
    "You may modify the code below and try different mathematical operations on different values."
   ]
  },
  {
   "cell_type": "code",
   "execution_count": null,
   "id": "76dffc4b",
   "metadata": {},
   "outputs": [],
   "source": [
    "# Replace ____ (blank space) with some number in line 2 & 3\n",
    "x = ____\n",
    "y = ____\n",
    "\n",
    "# Change the * operator (multiplication) to another operator such as +, -, /\n",
    "mul = x * y\n",
    "print(mul)"
   ]
  },
  {
   "cell_type": "markdown",
   "id": "d88b8958",
   "metadata": {
    "id": "90wj4JOqvNI5"
   },
   "source": [
    "You will learn about integers, float, booleans, and strings in this notebook.\n",
    "\n",
    "### Integers\n",
    "\n",
    "An integer in programming is exactly what it is in mathematics, a whole number. It can either be positive or negative."
   ]
  },
  {
   "cell_type": "code",
   "execution_count": 10,
   "id": "235f58c1",
   "metadata": {
    "id": "-or9IALBvNI5",
    "outputId": "833f4d15-056d-4181-b460-0d58d325f7b8"
   },
   "outputs": [],
   "source": [
    "my_integer = 100"
   ]
  },
  {
   "cell_type": "markdown",
   "id": "b031efcf",
   "metadata": {},
   "source": [
    "One thing to keep in mind, the equal '=' sign used while assigning a value to a variable. It should not be read as 'equal to'. \n",
    "It should be read or interpreted as \"is set to\". \n",
    "\n",
    "You will use the `print` function to display the values of the variables."
   ]
  },
  {
   "cell_type": "code",
   "execution_count": 11,
   "id": "0238a5b4",
   "metadata": {},
   "outputs": [
    {
     "name": "stdout",
     "output_type": "stream",
     "text": [
      "100\n"
     ]
    }
   ],
   "source": [
    "print(my_integer)"
   ]
  },
  {
   "cell_type": "markdown",
   "id": "3c99f80f",
   "metadata": {},
   "source": [
    "The type of the variable will be displayed using the `type` function."
   ]
  },
  {
   "cell_type": "code",
   "execution_count": 12,
   "id": "012f8dca",
   "metadata": {},
   "outputs": [
    {
     "data": {
      "text/plain": [
       "int"
      ]
     },
     "execution_count": 12,
     "metadata": {},
     "output_type": "execute_result"
    }
   ],
   "source": [
    "type(my_integer)"
   ]
  },
  {
   "cell_type": "markdown",
   "id": "be617252",
   "metadata": {
    "id": "_aQk1fJtWVOT"
   },
   "source": [
    "### Float\n",
    "\n",
    "A real number (in mathematics) is called a float in programming. In Python, there are two ways to define a float:\n",
    "1. Simply set the value as a decimal point.\n",
    "```python\n",
    "my_float = 5.0\n",
    "```\n",
    "2. Specify that the value is a float.\n",
    "```python\n",
    "my_float = float(5)\n",
    "```"
   ]
  },
  {
   "cell_type": "code",
   "execution_count": 13,
   "id": "f5ffd3f3",
   "metadata": {
    "id": "BTt72Cm3WVOU",
    "outputId": "ca90444a-781b-4724-e1e5-964cb1cc6705"
   },
   "outputs": [
    {
     "name": "stdout",
     "output_type": "stream",
     "text": [
      "5.0\n"
     ]
    },
    {
     "data": {
      "text/plain": [
       "float"
      ]
     },
     "execution_count": 13,
     "metadata": {},
     "output_type": "execute_result"
    }
   ],
   "source": [
    "my_float = 5.0\n",
    "print(my_float)\n",
    "type(my_float)"
   ]
  },
  {
   "cell_type": "code",
   "execution_count": 14,
   "id": "383a4de0",
   "metadata": {
    "id": "oLnGNNkqWVOU",
    "outputId": "3c6a165b-c32e-4ff8-edce-90a68b24ec62"
   },
   "outputs": [
    {
     "name": "stdout",
     "output_type": "stream",
     "text": [
      "5.0\n"
     ]
    },
    {
     "data": {
      "text/plain": [
       "float"
      ]
     },
     "execution_count": 14,
     "metadata": {},
     "output_type": "execute_result"
    }
   ],
   "source": [
    "my_float = float(5)\n",
    "print(my_float)\n",
    "type(my_float)"
   ]
  },
  {
   "cell_type": "markdown",
   "id": "b4f975b9",
   "metadata": {
    "id": "CUWDt-h-WVOV"
   },
   "source": [
    "### Strings\n",
    "\n",
    "The text is defined within a single quote ('') or double quotes (\"\"). They are called Strings in programming terminology. They can hold alphabets, numbers and special characters."
   ]
  },
  {
   "cell_type": "code",
   "execution_count": 15,
   "id": "7d74bf60",
   "metadata": {
    "id": "Mhim-_QNWVOV",
    "outputId": "593ca88d-9f4e-4c6a-cca3-37ece8427495"
   },
   "outputs": [
    {
     "name": "stdout",
     "output_type": "stream",
     "text": [
      "Momentm trading strategy.\n"
     ]
    }
   ],
   "source": [
    "my_string = 'Momentm trading strategy.'\n",
    "print(my_string)"
   ]
  },
  {
   "cell_type": "code",
   "execution_count": 16,
   "id": "bdb7271d",
   "metadata": {},
   "outputs": [
    {
     "name": "stdout",
     "output_type": "stream",
     "text": [
      "Swing trading strategy.\n"
     ]
    }
   ],
   "source": [
    "my_string = \"Swing trading strategy.\"\n",
    "print(my_string)"
   ]
  },
  {
   "cell_type": "markdown",
   "id": "634582d3",
   "metadata": {},
   "source": [
    "\n",
    "\n",
    "Python is a case sensitive language. This means if you say `gold_price` and `Gold_Price`, these two will be different variables entirely."
   ]
  },
  {
   "cell_type": "code",
   "execution_count": 17,
   "id": "29e758bb",
   "metadata": {},
   "outputs": [
    {
     "name": "stdout",
     "output_type": "stream",
     "text": [
      "gold_price 1000\n",
      "Gold_Price 2000\n"
     ]
    }
   ],
   "source": [
    "gold_price = 1000\n",
    "Gold_Price = 2000\n",
    "\n",
    "print(\"gold_price\", gold_price)\n",
    "print(\"Gold_Price\", Gold_Price)"
   ]
  },
  {
   "cell_type": "markdown",
   "id": "22a6aa6a",
   "metadata": {
    "id": "7TiQmLnBWVOf"
   },
   "source": [
    "<a id='indentation'></a> \n",
    "##  Indentation\n",
    "\n",
    "Python forces you to follow proper indentation. The number of spaces in indentation can be different, but all lines of code within the same block should have the same number of spaces in the indentation.\n",
    "\n",
    "For example, the 3rd line of the code in the cell below shows incorrect indentation. Try running the code to see the error that it throws."
   ]
  },
  {
   "cell_type": "code",
   "execution_count": 18,
   "id": "9974b4f4",
   "metadata": {
    "colab": {
     "base_uri": "https://localhost:8080/",
     "height": 130
    },
    "id": "wn1P2UknvNJC",
    "outputId": "924320a7-365d-4d66-ce5f-bc0e0cbb2768"
   },
   "outputs": [
    {
     "ename": "IndentationError",
     "evalue": "unexpected indent (<ipython-input-18-660c292a82e0>, line 3)",
     "output_type": "error",
     "traceback": [
      "\u001b[1;36m  File \u001b[1;32m\"<ipython-input-18-660c292a82e0>\"\u001b[1;36m, line \u001b[1;32m3\u001b[0m\n\u001b[1;33m    num_sq = num ** 2\u001b[0m\n\u001b[1;37m    ^\u001b[0m\n\u001b[1;31mIndentationError\u001b[0m\u001b[1;31m:\u001b[0m unexpected indent\n"
     ]
    }
   ],
   "source": [
    "# Python Program to calculate the square of number\n",
    "num = 8\n",
    "    num_sq = num ** 2\n",
    "print(num_sq)"
   ]
  },
  {
   "cell_type": "markdown",
   "id": "74ca5295",
   "metadata": {
    "id": "zi2SEhiIO_8P"
   },
   "source": [
    "The error message points to the line 3 and tells you that there is an unexpected indentation. Let's remove the indentation and see what happens."
   ]
  },
  {
   "cell_type": "code",
   "execution_count": 19,
   "id": "2de174f2",
   "metadata": {
    "id": "b84cQJUCvNJC",
    "outputId": "881caeee-a19e-48d6-9309-a3d8c7af739b"
   },
   "outputs": [
    {
     "name": "stdout",
     "output_type": "stream",
     "text": [
      "64\n"
     ]
    }
   ],
   "source": [
    "# On removing the indent\n",
    "num = 8\n",
    "num_sq = num ** 2\n",
    "print(num_sq)"
   ]
  },
  {
   "cell_type": "markdown",
   "id": "ea3810b3",
   "metadata": {
    "id": "l837hFEHvNIz"
   },
   "source": [
    "You got the result.\n",
    "\n",
    "<a id='returns'></a> \n",
    "## Find Simple Returns\n",
    "\n",
    "Let us make it a bit harder! In this piece of code you can see the prices for a stock. Simple returns are % change in the price. "
   ]
  },
  {
   "cell_type": "code",
   "execution_count": 20,
   "id": "08f54c44",
   "metadata": {},
   "outputs": [],
   "source": [
    "# Initial value\n",
    "price_1 = 100\n",
    "\n",
    "# Final value\n",
    "price_2 = 105"
   ]
  },
  {
   "cell_type": "markdown",
   "id": "cc76e2e8",
   "metadata": {},
   "source": [
    "Find \"returns\" in the empty cell here to find the simple returns for this stock.\n",
    "\n",
    "You can use the formula: Percentage Change = (Final Value / Initial Value - 1) * 100"
   ]
  },
  {
   "cell_type": "code",
   "execution_count": null,
   "id": "4c004270",
   "metadata": {},
   "outputs": [],
   "source": [
    "# Substitute variables price_1 and price_2 in the formula given above, to compute the simple returns\n",
    "returns = ____\n",
    "print(returns)"
   ]
  },
  {
   "cell_type": "markdown",
   "id": "6a554306",
   "metadata": {},
   "source": [
    "Now run the cell below to find \"log returns\" for the same stock. \n",
    "It is calculated by taking the natural log of the final value, divided by the initial value."
   ]
  },
  {
   "cell_type": "code",
   "execution_count": 21,
   "id": "b8c4fe25",
   "metadata": {
    "scrolled": true
   },
   "outputs": [
    {
     "data": {
      "text/plain": [
       "0.04879016416943204"
      ]
     },
     "execution_count": 21,
     "metadata": {},
     "output_type": "execute_result"
    }
   ],
   "source": [
    "import math\n",
    "math.log(price_2 / price_1)"
   ]
  },
  {
   "cell_type": "markdown",
   "id": "a17155a5",
   "metadata": {
    "id": "7NI9eYYCvNJD"
   },
   "source": [
    "In the upcoming units, you will learn about a operations and functions in Python.<br><br>"
   ]
  }
 ],
 "metadata": {
  "anaconda-cloud": {},
  "colab": {
   "name": "My First Jupyter Notebook.ipynb",
   "provenance": []
  },
  "kernelspec": {
   "display_name": "Python 3 (ipykernel)",
   "language": "python",
   "name": "python3"
  },
  "language_info": {
   "codemirror_mode": {
    "name": "ipython",
    "version": 3
   },
   "file_extension": ".py",
   "mimetype": "text/x-python",
   "name": "python",
   "nbconvert_exporter": "python",
   "pygments_lexer": "ipython3",
   "version": "3.9.12"
  }
 },
 "nbformat": 4,
 "nbformat_minor": 5
}
